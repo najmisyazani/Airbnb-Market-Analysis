{
 "cells": [
  {
   "cell_type": "markdown",
   "id": "4cfcd0d2",
   "metadata": {},
   "source": [
    "# Airbnb Market Analysis"
   ]
  },
  {
   "cell_type": "markdown",
   "id": "7f64215c",
   "metadata": {},
   "source": [
    "## Project Objective\n",
    "A city manager for Airbnb in Dublin and wants to better understand:\n",
    "- what guests are searching for in Dublin,\n",
    "- which inquiries hosts tend to accept.\n",
    "\n",
    "Based on the findings the city manager will try to boost the number and quality of hosts in Dublin to fit the demands from guests. The goal of this project is to analyze, understand, visualize, and communicate the demand / supply in the market. For example, it may be useful to look at the breakdown of start date day of the week, or number of nights, or room type that is searched for, and how many hosts accepted the reservation. In particular, we are interested in:\n",
    "- what the gaps are between guest demand and host supply that the new city manager could plug to increase the number of bookings in Dublin,\n",
    "- what other data would be useful to have to deepen the analysis and understanding.\n"
   ]
  },
  {
   "cell_type": "markdown",
   "id": "a2a5c05b",
   "metadata": {},
   "source": [
    "## Table of Content\n",
    "- [Data Import](#Data-Import)\n",
    "- [Data Profiling](#Data-Profiling)\n",
    "    - [_searches_ Dataset](#searches-Dataset)\n",
    "    - [_contacts_ Dataset](#contacts-Dataset)\n",
    "- [Exploratory Data Analysis](#Exploratory-Data-Analysis)\n",
    "    - [_searches_ Dataset Analysis](#searches-Dataset-Analysis)\n",
    "    - [_contacts_ Dataset Analysis](#contacts-Dataset-Analysis)\n",
    "    - [Merged Datasets Analysis](#Merged-Datasets-Analysis)"
   ]
  },
  {
   "cell_type": "markdown",
   "id": "6220c629",
   "metadata": {},
   "source": [
    "## Data Import"
   ]
  },
  {
   "cell_type": "code",
   "execution_count": 1,
   "id": "aee9f1fe",
   "metadata": {},
   "outputs": [],
   "source": [
    "# Import libraries\n",
    "import os\n",
    "import pandas as pd\n",
    "import numpy as np\n",
    "import matplotlib.pyplot as plt\n",
    "import seaborn as sns"
   ]
  },
  {
   "cell_type": "code",
   "execution_count": 2,
   "id": "63a1a664",
   "metadata": {},
   "outputs": [
    {
     "data": {
      "text/plain": [
       "'C:\\\\Users\\\\najmi\\\\Downloads\\\\Data Analytics with Python Training\\\\Market Analysis\\\\datasets (3)\\\\datasets'"
      ]
     },
     "execution_count": 2,
     "metadata": {},
     "output_type": "execute_result"
    }
   ],
   "source": [
    "os.getcwd()"
   ]
  },
  {
   "cell_type": "code",
   "execution_count": 3,
   "id": "01797b00",
   "metadata": {},
   "outputs": [
    {
     "data": {
      "text/plain": [
       "['.ipynb_checkpoints',\n",
       " 'Airbnb Market Analysis.ipynb',\n",
       " 'contacts.tsv',\n",
       " 'searches.tsv']"
      ]
     },
     "execution_count": 3,
     "metadata": {},
     "output_type": "execute_result"
    }
   ],
   "source": [
    "os.listdir()"
   ]
  },
  {
   "cell_type": "code",
   "execution_count": 4,
   "id": "f180f868",
   "metadata": {},
   "outputs": [],
   "source": [
    "# Import the datasets\n",
    "def import_data(file_path):\n",
    "    # Read the first few lines of the file to determine the separator\n",
    "    with open(file_path, 'r') as file:\n",
    "        first_line = file.readline()\n",
    "    \n",
    "    # Check for common separators\n",
    "    if '\\t' in first_line:\n",
    "        sep = '\\t'\n",
    "    elif ',' in first_line:\n",
    "        sep = ','\n",
    "    elif ';' in first_line:\n",
    "        sep = ';'\n",
    "    else:\n",
    "        raise ValueError(\"Unknown separator in file\")\n",
    "    # Use determined separator to read the entire file\n",
    "    data = pd.read_csv(file_path, sep=sep)\n",
    "    return data\n",
    "        \n",
    "# Import dataset\n",
    "searches = import_data('searches.tsv')\n",
    "\n",
    "contacts = import_data('contacts.tsv')"
   ]
  },
  {
   "cell_type": "markdown",
   "id": "af94c9f4",
   "metadata": {},
   "source": [
    "## Data Profiling"
   ]
  },
  {
   "cell_type": "markdown",
   "id": "86119a1f",
   "metadata": {},
   "source": [
    "### _searches_ Dataset"
   ]
  },
  {
   "cell_type": "code",
   "execution_count": 5,
   "id": "6a067500",
   "metadata": {},
   "outputs": [
    {
     "name": "stdout",
     "output_type": "stream",
     "text": [
      "First 5 rows of dataset:\n"
     ]
    },
    {
     "data": {
      "text/html": [
       "<div>\n",
       "<style scoped>\n",
       "    .dataframe tbody tr th:only-of-type {\n",
       "        vertical-align: middle;\n",
       "    }\n",
       "\n",
       "    .dataframe tbody tr th {\n",
       "        vertical-align: top;\n",
       "    }\n",
       "\n",
       "    .dataframe thead th {\n",
       "        text-align: right;\n",
       "    }\n",
       "</style>\n",
       "<table border=\"1\" class=\"dataframe\">\n",
       "  <thead>\n",
       "    <tr style=\"text-align: right;\">\n",
       "      <th></th>\n",
       "      <th>ds</th>\n",
       "      <th>id_user</th>\n",
       "      <th>ds_checkin</th>\n",
       "      <th>ds_checkout</th>\n",
       "      <th>n_searches</th>\n",
       "      <th>n_nights</th>\n",
       "      <th>n_guests_min</th>\n",
       "      <th>n_guests_max</th>\n",
       "      <th>origin_country</th>\n",
       "      <th>filter_price_min</th>\n",
       "      <th>filter_price_max</th>\n",
       "      <th>filter_room_types</th>\n",
       "      <th>filter_neighborhoods</th>\n",
       "    </tr>\n",
       "  </thead>\n",
       "  <tbody>\n",
       "    <tr>\n",
       "      <th>0</th>\n",
       "      <td>2014-10-01</td>\n",
       "      <td>0000af0a-6f26-4233-9832-27efbfb36148</td>\n",
       "      <td>2014-10-09</td>\n",
       "      <td>2014-10-12</td>\n",
       "      <td>16</td>\n",
       "      <td>3.0</td>\n",
       "      <td>2</td>\n",
       "      <td>2</td>\n",
       "      <td>IE</td>\n",
       "      <td>0.0</td>\n",
       "      <td>67.0</td>\n",
       "      <td>,Entire home/apt,Entire home/apt,Private room,...</td>\n",
       "      <td>NaN</td>\n",
       "    </tr>\n",
       "    <tr>\n",
       "      <th>1</th>\n",
       "      <td>2014-10-01</td>\n",
       "      <td>0000af0a-6f26-4233-9832-27efbfb36148</td>\n",
       "      <td>2014-10-09</td>\n",
       "      <td>2014-10-19</td>\n",
       "      <td>3</td>\n",
       "      <td>10.0</td>\n",
       "      <td>1</td>\n",
       "      <td>2</td>\n",
       "      <td>IE</td>\n",
       "      <td>0.0</td>\n",
       "      <td>67.0</td>\n",
       "      <td>NaN</td>\n",
       "      <td>NaN</td>\n",
       "    </tr>\n",
       "    <tr>\n",
       "      <th>2</th>\n",
       "      <td>2014-10-01</td>\n",
       "      <td>000cd9d3-e05b-4016-9e09-34a6f8ba2fc5</td>\n",
       "      <td>NaN</td>\n",
       "      <td>NaN</td>\n",
       "      <td>1</td>\n",
       "      <td>NaN</td>\n",
       "      <td>1</td>\n",
       "      <td>1</td>\n",
       "      <td>GB</td>\n",
       "      <td>NaN</td>\n",
       "      <td>NaN</td>\n",
       "      <td>NaN</td>\n",
       "      <td>NaN</td>\n",
       "    </tr>\n",
       "    <tr>\n",
       "      <th>3</th>\n",
       "      <td>2014-10-01</td>\n",
       "      <td>000cd9d3-e05b-4016-9e09-34a6f8ba2fc5</td>\n",
       "      <td>2014-11-08</td>\n",
       "      <td>2014-11-10</td>\n",
       "      <td>11</td>\n",
       "      <td>2.0</td>\n",
       "      <td>1</td>\n",
       "      <td>2</td>\n",
       "      <td>GB</td>\n",
       "      <td>NaN</td>\n",
       "      <td>NaN</td>\n",
       "      <td>,Entire home/apt</td>\n",
       "      <td>NaN</td>\n",
       "    </tr>\n",
       "    <tr>\n",
       "      <th>4</th>\n",
       "      <td>2014-10-01</td>\n",
       "      <td>001c04f0-5a94-4ee0-bf5d-3591265256de</td>\n",
       "      <td>NaN</td>\n",
       "      <td>NaN</td>\n",
       "      <td>1</td>\n",
       "      <td>NaN</td>\n",
       "      <td>1</td>\n",
       "      <td>1</td>\n",
       "      <td>IE</td>\n",
       "      <td>NaN</td>\n",
       "      <td>NaN</td>\n",
       "      <td>NaN</td>\n",
       "      <td>NaN</td>\n",
       "    </tr>\n",
       "  </tbody>\n",
       "</table>\n",
       "</div>"
      ],
      "text/plain": [
       "           ds                               id_user  ds_checkin ds_checkout  \\\n",
       "0  2014-10-01  0000af0a-6f26-4233-9832-27efbfb36148  2014-10-09  2014-10-12   \n",
       "1  2014-10-01  0000af0a-6f26-4233-9832-27efbfb36148  2014-10-09  2014-10-19   \n",
       "2  2014-10-01  000cd9d3-e05b-4016-9e09-34a6f8ba2fc5         NaN         NaN   \n",
       "3  2014-10-01  000cd9d3-e05b-4016-9e09-34a6f8ba2fc5  2014-11-08  2014-11-10   \n",
       "4  2014-10-01  001c04f0-5a94-4ee0-bf5d-3591265256de         NaN         NaN   \n",
       "\n",
       "   n_searches  n_nights  n_guests_min  n_guests_max origin_country  \\\n",
       "0          16       3.0             2             2             IE   \n",
       "1           3      10.0             1             2             IE   \n",
       "2           1       NaN             1             1             GB   \n",
       "3          11       2.0             1             2             GB   \n",
       "4           1       NaN             1             1             IE   \n",
       "\n",
       "   filter_price_min  filter_price_max  \\\n",
       "0               0.0              67.0   \n",
       "1               0.0              67.0   \n",
       "2               NaN               NaN   \n",
       "3               NaN               NaN   \n",
       "4               NaN               NaN   \n",
       "\n",
       "                                   filter_room_types filter_neighborhoods  \n",
       "0  ,Entire home/apt,Entire home/apt,Private room,...                  NaN  \n",
       "1                                                NaN                  NaN  \n",
       "2                                                NaN                  NaN  \n",
       "3                                   ,Entire home/apt                  NaN  \n",
       "4                                                NaN                  NaN  "
      ]
     },
     "metadata": {},
     "output_type": "display_data"
    },
    {
     "name": "stdout",
     "output_type": "stream",
     "text": [
      "Last 5 rows of dataset:\n"
     ]
    },
    {
     "data": {
      "text/html": [
       "<div>\n",
       "<style scoped>\n",
       "    .dataframe tbody tr th:only-of-type {\n",
       "        vertical-align: middle;\n",
       "    }\n",
       "\n",
       "    .dataframe tbody tr th {\n",
       "        vertical-align: top;\n",
       "    }\n",
       "\n",
       "    .dataframe thead th {\n",
       "        text-align: right;\n",
       "    }\n",
       "</style>\n",
       "<table border=\"1\" class=\"dataframe\">\n",
       "  <thead>\n",
       "    <tr style=\"text-align: right;\">\n",
       "      <th></th>\n",
       "      <th>ds</th>\n",
       "      <th>id_user</th>\n",
       "      <th>ds_checkin</th>\n",
       "      <th>ds_checkout</th>\n",
       "      <th>n_searches</th>\n",
       "      <th>n_nights</th>\n",
       "      <th>n_guests_min</th>\n",
       "      <th>n_guests_max</th>\n",
       "      <th>origin_country</th>\n",
       "      <th>filter_price_min</th>\n",
       "      <th>filter_price_max</th>\n",
       "      <th>filter_room_types</th>\n",
       "      <th>filter_neighborhoods</th>\n",
       "    </tr>\n",
       "  </thead>\n",
       "  <tbody>\n",
       "    <tr>\n",
       "      <th>35732</th>\n",
       "      <td>2014-10-14</td>\n",
       "      <td>ff3c92ed-ebea-4691-a808-cc6fb73f2f55</td>\n",
       "      <td>NaN</td>\n",
       "      <td>NaN</td>\n",
       "      <td>3</td>\n",
       "      <td>NaN</td>\n",
       "      <td>2</td>\n",
       "      <td>2</td>\n",
       "      <td>US</td>\n",
       "      <td>0.0</td>\n",
       "      <td>1.000000e+02</td>\n",
       "      <td>Entire home/apt</td>\n",
       "      <td>NaN</td>\n",
       "    </tr>\n",
       "    <tr>\n",
       "      <th>35733</th>\n",
       "      <td>2014-10-14</td>\n",
       "      <td>ff61875b-1d27-4ee4-bd4e-36671d3bfed4</td>\n",
       "      <td>NaN</td>\n",
       "      <td>NaN</td>\n",
       "      <td>2</td>\n",
       "      <td>NaN</td>\n",
       "      <td>1</td>\n",
       "      <td>1</td>\n",
       "      <td>US</td>\n",
       "      <td>NaN</td>\n",
       "      <td>NaN</td>\n",
       "      <td>NaN</td>\n",
       "      <td>NaN</td>\n",
       "    </tr>\n",
       "    <tr>\n",
       "      <th>35734</th>\n",
       "      <td>2014-10-14</td>\n",
       "      <td>ff946a14-777b-4597-91b2-3277921214cd</td>\n",
       "      <td>2014-11-03</td>\n",
       "      <td>2014-11-06</td>\n",
       "      <td>10</td>\n",
       "      <td>3.0</td>\n",
       "      <td>1</td>\n",
       "      <td>3</td>\n",
       "      <td>IL</td>\n",
       "      <td>NaN</td>\n",
       "      <td>NaN</td>\n",
       "      <td>Entire home/apt</td>\n",
       "      <td>NaN</td>\n",
       "    </tr>\n",
       "    <tr>\n",
       "      <th>35735</th>\n",
       "      <td>2014-10-14</td>\n",
       "      <td>ffc681d4-3668-4448-af38-6f73bc9fb89d</td>\n",
       "      <td>NaN</td>\n",
       "      <td>NaN</td>\n",
       "      <td>5</td>\n",
       "      <td>NaN</td>\n",
       "      <td>1</td>\n",
       "      <td>1</td>\n",
       "      <td>IE</td>\n",
       "      <td>0.0</td>\n",
       "      <td>4.850000e+02</td>\n",
       "      <td>NaN</td>\n",
       "      <td>NaN</td>\n",
       "    </tr>\n",
       "    <tr>\n",
       "      <th>35736</th>\n",
       "      <td>2014-10-14</td>\n",
       "      <td>ffe0f0c3-f8e3-418e-82e5-3a29fdd183bd</td>\n",
       "      <td>NaN</td>\n",
       "      <td>NaN</td>\n",
       "      <td>3</td>\n",
       "      <td>NaN</td>\n",
       "      <td>1</td>\n",
       "      <td>1</td>\n",
       "      <td>US</td>\n",
       "      <td>480.0</td>\n",
       "      <td>1.073742e+09</td>\n",
       "      <td>,Entire home/apt</td>\n",
       "      <td>NaN</td>\n",
       "    </tr>\n",
       "  </tbody>\n",
       "</table>\n",
       "</div>"
      ],
      "text/plain": [
       "               ds                               id_user  ds_checkin  \\\n",
       "35732  2014-10-14  ff3c92ed-ebea-4691-a808-cc6fb73f2f55         NaN   \n",
       "35733  2014-10-14  ff61875b-1d27-4ee4-bd4e-36671d3bfed4         NaN   \n",
       "35734  2014-10-14  ff946a14-777b-4597-91b2-3277921214cd  2014-11-03   \n",
       "35735  2014-10-14  ffc681d4-3668-4448-af38-6f73bc9fb89d         NaN   \n",
       "35736  2014-10-14  ffe0f0c3-f8e3-418e-82e5-3a29fdd183bd         NaN   \n",
       "\n",
       "      ds_checkout  n_searches  n_nights  n_guests_min  n_guests_max  \\\n",
       "35732         NaN           3       NaN             2             2   \n",
       "35733         NaN           2       NaN             1             1   \n",
       "35734  2014-11-06          10       3.0             1             3   \n",
       "35735         NaN           5       NaN             1             1   \n",
       "35736         NaN           3       NaN             1             1   \n",
       "\n",
       "      origin_country  filter_price_min  filter_price_max filter_room_types  \\\n",
       "35732             US               0.0      1.000000e+02   Entire home/apt   \n",
       "35733             US               NaN               NaN               NaN   \n",
       "35734             IL               NaN               NaN   Entire home/apt   \n",
       "35735             IE               0.0      4.850000e+02               NaN   \n",
       "35736             US             480.0      1.073742e+09  ,Entire home/apt   \n",
       "\n",
       "      filter_neighborhoods  \n",
       "35732                  NaN  \n",
       "35733                  NaN  \n",
       "35734                  NaN  \n",
       "35735                  NaN  \n",
       "35736                  NaN  "
      ]
     },
     "metadata": {},
     "output_type": "display_data"
    },
    {
     "name": "stdout",
     "output_type": "stream",
     "text": [
      "Percentage of NaN values in dataset:\n",
      " ds                      0.000000\n",
      "id_user                 0.000000\n",
      "ds_checkin              0.331561\n",
      "ds_checkout             0.331561\n",
      "n_searches              0.000000\n",
      "n_nights                0.331561\n",
      "n_guests_min            0.000000\n",
      "n_guests_max            0.000000\n",
      "origin_country          0.000000\n",
      "filter_price_min        0.627221\n",
      "filter_price_max        0.627221\n",
      "filter_room_types       0.546940\n",
      "filter_neighborhoods    0.962336\n",
      "dtype: float64 \n",
      "\n",
      "Number of duplicated rows: 0\n"
     ]
    }
   ],
   "source": [
    "def profile_data(df):\n",
    "    print('First 5 rows of dataset:')\n",
    "    display(df.head())\n",
    "    print('Last 5 rows of dataset:')\n",
    "    display(df.tail())\n",
    "    print('Percentage of NaN values in dataset:\\n', df.isna().sum()/len(df), '\\n')\n",
    "    print('Number of duplicated rows:', df.duplicated().sum())\n",
    "\n",
    "profile_data(searches)"
   ]
  },
  {
   "cell_type": "markdown",
   "id": "bd04aeba",
   "metadata": {},
   "source": [
    "The neighbourhood column in searches has 96.23% of null values. This could lead to innacurate assumptions about the demand from people. When looking through the column, 'City Centre' was a common choice, so this should be investigated further with more data."
   ]
  },
  {
   "cell_type": "markdown",
   "id": "a6395bc0",
   "metadata": {},
   "source": [
    "### _contacts_ Dataset"
   ]
  },
  {
   "cell_type": "code",
   "execution_count": 6,
   "id": "c83f84e6",
   "metadata": {
    "scrolled": false
   },
   "outputs": [
    {
     "name": "stdout",
     "output_type": "stream",
     "text": [
      "First 5 rows of dataset:\n"
     ]
    },
    {
     "data": {
      "text/html": [
       "<div>\n",
       "<style scoped>\n",
       "    .dataframe tbody tr th:only-of-type {\n",
       "        vertical-align: middle;\n",
       "    }\n",
       "\n",
       "    .dataframe tbody tr th {\n",
       "        vertical-align: top;\n",
       "    }\n",
       "\n",
       "    .dataframe thead th {\n",
       "        text-align: right;\n",
       "    }\n",
       "</style>\n",
       "<table border=\"1\" class=\"dataframe\">\n",
       "  <thead>\n",
       "    <tr style=\"text-align: right;\">\n",
       "      <th></th>\n",
       "      <th>id_guest</th>\n",
       "      <th>id_host</th>\n",
       "      <th>id_listing</th>\n",
       "      <th>ts_contact_at</th>\n",
       "      <th>ts_reply_at</th>\n",
       "      <th>ts_accepted_at</th>\n",
       "      <th>ts_booking_at</th>\n",
       "      <th>ds_checkin</th>\n",
       "      <th>ds_checkout</th>\n",
       "      <th>n_guests</th>\n",
       "      <th>n_messages</th>\n",
       "    </tr>\n",
       "  </thead>\n",
       "  <tbody>\n",
       "    <tr>\n",
       "      <th>0</th>\n",
       "      <td>000dfad9-459b-4f0b-8310-3d6ab34e4f57</td>\n",
       "      <td>13bb24b8-d432-43a2-9755-5ea11b43bb69</td>\n",
       "      <td>21d2b1a2-fdc3-4b4c-a1f0-0eaf0cc02370</td>\n",
       "      <td>2014-10-04 16:26:28.0</td>\n",
       "      <td>2014-10-04 16:26:28.0</td>\n",
       "      <td>2014-10-04 16:26:28.0</td>\n",
       "      <td>2014-10-04 16:26:28.0</td>\n",
       "      <td>2014-10-13</td>\n",
       "      <td>2014-10-15</td>\n",
       "      <td>2</td>\n",
       "      <td>13</td>\n",
       "    </tr>\n",
       "    <tr>\n",
       "      <th>1</th>\n",
       "      <td>00197051-c6cb-4c3a-99e9-86615b819874</td>\n",
       "      <td>46aa3897-9c00-4d76-ac66-a307593d0675</td>\n",
       "      <td>fb5ed09a-9848-4f2c-b2ef-34deb62164fb</td>\n",
       "      <td>2014-11-04 09:10:03.0</td>\n",
       "      <td>2014-11-04 09:45:50.0</td>\n",
       "      <td>2014-11-04 09:45:50.0</td>\n",
       "      <td>2014-11-04 12:20:46.0</td>\n",
       "      <td>2014-11-27</td>\n",
       "      <td>2014-11-30</td>\n",
       "      <td>1</td>\n",
       "      <td>10</td>\n",
       "    </tr>\n",
       "    <tr>\n",
       "      <th>2</th>\n",
       "      <td>0027538e-aa9e-4a02-8979-b8397e5d4cba</td>\n",
       "      <td>6bbb88ca-db66-48c5-9c4b-862f7706284a</td>\n",
       "      <td>d3871da6-8012-4dc4-b508-c91f2c10c297</td>\n",
       "      <td>2014-10-10 12:02:50.0</td>\n",
       "      <td>2014-10-10 15:07:01.0</td>\n",
       "      <td>NaN</td>\n",
       "      <td>NaN</td>\n",
       "      <td>2014-10-17</td>\n",
       "      <td>2014-10-19</td>\n",
       "      <td>2</td>\n",
       "      <td>3</td>\n",
       "    </tr>\n",
       "    <tr>\n",
       "      <th>3</th>\n",
       "      <td>0027538e-aa9e-4a02-8979-b8397e5d4cba</td>\n",
       "      <td>8772bc85-a9b7-4d85-a52d-41f3620c2912</td>\n",
       "      <td>0d9b5583-8053-4b67-adfe-8c29eb12efed</td>\n",
       "      <td>2014-10-10 15:23:53.0</td>\n",
       "      <td>NaN</td>\n",
       "      <td>NaN</td>\n",
       "      <td>NaN</td>\n",
       "      <td>2014-10-17</td>\n",
       "      <td>2014-10-19</td>\n",
       "      <td>2</td>\n",
       "      <td>2</td>\n",
       "    </tr>\n",
       "    <tr>\n",
       "      <th>4</th>\n",
       "      <td>0027538e-aa9e-4a02-8979-b8397e5d4cba</td>\n",
       "      <td>ac162061-55e2-4072-ac91-2e080f9581f2</td>\n",
       "      <td>ec68e0af-b0f2-42c7-b6f8-d41061c083ff</td>\n",
       "      <td>2014-10-10 15:22:26.0</td>\n",
       "      <td>2014-10-10 15:24:26.0</td>\n",
       "      <td>2014-10-10 15:24:26.0</td>\n",
       "      <td>2014-10-10 15:52:42.0</td>\n",
       "      <td>2014-10-17</td>\n",
       "      <td>2014-10-19</td>\n",
       "      <td>2</td>\n",
       "      <td>14</td>\n",
       "    </tr>\n",
       "  </tbody>\n",
       "</table>\n",
       "</div>"
      ],
      "text/plain": [
       "                               id_guest                               id_host  \\\n",
       "0  000dfad9-459b-4f0b-8310-3d6ab34e4f57  13bb24b8-d432-43a2-9755-5ea11b43bb69   \n",
       "1  00197051-c6cb-4c3a-99e9-86615b819874  46aa3897-9c00-4d76-ac66-a307593d0675   \n",
       "2  0027538e-aa9e-4a02-8979-b8397e5d4cba  6bbb88ca-db66-48c5-9c4b-862f7706284a   \n",
       "3  0027538e-aa9e-4a02-8979-b8397e5d4cba  8772bc85-a9b7-4d85-a52d-41f3620c2912   \n",
       "4  0027538e-aa9e-4a02-8979-b8397e5d4cba  ac162061-55e2-4072-ac91-2e080f9581f2   \n",
       "\n",
       "                             id_listing          ts_contact_at  \\\n",
       "0  21d2b1a2-fdc3-4b4c-a1f0-0eaf0cc02370  2014-10-04 16:26:28.0   \n",
       "1  fb5ed09a-9848-4f2c-b2ef-34deb62164fb  2014-11-04 09:10:03.0   \n",
       "2  d3871da6-8012-4dc4-b508-c91f2c10c297  2014-10-10 12:02:50.0   \n",
       "3  0d9b5583-8053-4b67-adfe-8c29eb12efed  2014-10-10 15:23:53.0   \n",
       "4  ec68e0af-b0f2-42c7-b6f8-d41061c083ff  2014-10-10 15:22:26.0   \n",
       "\n",
       "             ts_reply_at         ts_accepted_at          ts_booking_at  \\\n",
       "0  2014-10-04 16:26:28.0  2014-10-04 16:26:28.0  2014-10-04 16:26:28.0   \n",
       "1  2014-11-04 09:45:50.0  2014-11-04 09:45:50.0  2014-11-04 12:20:46.0   \n",
       "2  2014-10-10 15:07:01.0                    NaN                    NaN   \n",
       "3                    NaN                    NaN                    NaN   \n",
       "4  2014-10-10 15:24:26.0  2014-10-10 15:24:26.0  2014-10-10 15:52:42.0   \n",
       "\n",
       "   ds_checkin ds_checkout  n_guests  n_messages  \n",
       "0  2014-10-13  2014-10-15         2          13  \n",
       "1  2014-11-27  2014-11-30         1          10  \n",
       "2  2014-10-17  2014-10-19         2           3  \n",
       "3  2014-10-17  2014-10-19         2           2  \n",
       "4  2014-10-17  2014-10-19         2          14  "
      ]
     },
     "metadata": {},
     "output_type": "display_data"
    },
    {
     "name": "stdout",
     "output_type": "stream",
     "text": [
      "Last 5 rows of dataset:\n"
     ]
    },
    {
     "data": {
      "text/html": [
       "<div>\n",
       "<style scoped>\n",
       "    .dataframe tbody tr th:only-of-type {\n",
       "        vertical-align: middle;\n",
       "    }\n",
       "\n",
       "    .dataframe tbody tr th {\n",
       "        vertical-align: top;\n",
       "    }\n",
       "\n",
       "    .dataframe thead th {\n",
       "        text-align: right;\n",
       "    }\n",
       "</style>\n",
       "<table border=\"1\" class=\"dataframe\">\n",
       "  <thead>\n",
       "    <tr style=\"text-align: right;\">\n",
       "      <th></th>\n",
       "      <th>id_guest</th>\n",
       "      <th>id_host</th>\n",
       "      <th>id_listing</th>\n",
       "      <th>ts_contact_at</th>\n",
       "      <th>ts_reply_at</th>\n",
       "      <th>ts_accepted_at</th>\n",
       "      <th>ts_booking_at</th>\n",
       "      <th>ds_checkin</th>\n",
       "      <th>ds_checkout</th>\n",
       "      <th>n_guests</th>\n",
       "      <th>n_messages</th>\n",
       "    </tr>\n",
       "  </thead>\n",
       "  <tbody>\n",
       "    <tr>\n",
       "      <th>7818</th>\n",
       "      <td>ffe366f0-6ab6-4e94-818a-c69c125fed3c</td>\n",
       "      <td>8be6bf94-aeb3-4a51-8ac4-db60baedfea1</td>\n",
       "      <td>7732bad8-e800-49f3-8751-e7604e3fb5a3</td>\n",
       "      <td>2014-10-07 21:43:00.0</td>\n",
       "      <td>2014-10-08 08:19:33.0</td>\n",
       "      <td>2014-10-08 08:19:33.0</td>\n",
       "      <td>NaN</td>\n",
       "      <td>2014-10-17</td>\n",
       "      <td>2014-10-20</td>\n",
       "      <td>2</td>\n",
       "      <td>5</td>\n",
       "    </tr>\n",
       "    <tr>\n",
       "      <th>7819</th>\n",
       "      <td>ffe366f0-6ab6-4e94-818a-c69c125fed3c</td>\n",
       "      <td>b92639c1-a5a8-48f6-8484-4fe6f62d1c6d</td>\n",
       "      <td>cc3a6bd4-d64f-4cbe-b947-c36c3851b487</td>\n",
       "      <td>2014-10-13 15:38:28.0</td>\n",
       "      <td>2014-10-13 15:44:56.0</td>\n",
       "      <td>NaN</td>\n",
       "      <td>NaN</td>\n",
       "      <td>2014-10-17</td>\n",
       "      <td>2014-10-20</td>\n",
       "      <td>2</td>\n",
       "      <td>5</td>\n",
       "    </tr>\n",
       "    <tr>\n",
       "      <th>7820</th>\n",
       "      <td>ffe366f0-6ab6-4e94-818a-c69c125fed3c</td>\n",
       "      <td>d0b6d89a-4379-43f2-9560-4943df5b8f4f</td>\n",
       "      <td>6e5b4380-66d2-4f2a-8f89-d2794598997d</td>\n",
       "      <td>2014-10-13 15:40:49.0</td>\n",
       "      <td>2014-10-13 15:42:46.0</td>\n",
       "      <td>NaN</td>\n",
       "      <td>NaN</td>\n",
       "      <td>2014-10-17</td>\n",
       "      <td>2014-10-20</td>\n",
       "      <td>2</td>\n",
       "      <td>3</td>\n",
       "    </tr>\n",
       "    <tr>\n",
       "      <th>7821</th>\n",
       "      <td>ffe366f0-6ab6-4e94-818a-c69c125fed3c</td>\n",
       "      <td>f86bc9ab-e199-4254-8609-fd67d6aaed42</td>\n",
       "      <td>28caf371-6d1d-4e06-aaf1-e660966ac7a1</td>\n",
       "      <td>2014-10-07 21:30:31.0</td>\n",
       "      <td>2014-10-08 19:04:43.0</td>\n",
       "      <td>NaN</td>\n",
       "      <td>NaN</td>\n",
       "      <td>2014-10-17</td>\n",
       "      <td>2014-10-20</td>\n",
       "      <td>2</td>\n",
       "      <td>2</td>\n",
       "    </tr>\n",
       "    <tr>\n",
       "      <th>7822</th>\n",
       "      <td>fffea166-9432-43a7-8b1b-09d6f30c1c07</td>\n",
       "      <td>6d656267-642e-4972-bdec-a35d82b84ebb</td>\n",
       "      <td>90dddef6-23ef-4df3-b454-8fd3d0e8cade</td>\n",
       "      <td>2014-10-08 00:05:05.0</td>\n",
       "      <td>2014-10-12 20:58:12.0</td>\n",
       "      <td>NaN</td>\n",
       "      <td>NaN</td>\n",
       "      <td>2014-11-11</td>\n",
       "      <td>2014-11-18</td>\n",
       "      <td>2</td>\n",
       "      <td>2</td>\n",
       "    </tr>\n",
       "  </tbody>\n",
       "</table>\n",
       "</div>"
      ],
      "text/plain": [
       "                                  id_guest  \\\n",
       "7818  ffe366f0-6ab6-4e94-818a-c69c125fed3c   \n",
       "7819  ffe366f0-6ab6-4e94-818a-c69c125fed3c   \n",
       "7820  ffe366f0-6ab6-4e94-818a-c69c125fed3c   \n",
       "7821  ffe366f0-6ab6-4e94-818a-c69c125fed3c   \n",
       "7822  fffea166-9432-43a7-8b1b-09d6f30c1c07   \n",
       "\n",
       "                                   id_host  \\\n",
       "7818  8be6bf94-aeb3-4a51-8ac4-db60baedfea1   \n",
       "7819  b92639c1-a5a8-48f6-8484-4fe6f62d1c6d   \n",
       "7820  d0b6d89a-4379-43f2-9560-4943df5b8f4f   \n",
       "7821  f86bc9ab-e199-4254-8609-fd67d6aaed42   \n",
       "7822  6d656267-642e-4972-bdec-a35d82b84ebb   \n",
       "\n",
       "                                id_listing          ts_contact_at  \\\n",
       "7818  7732bad8-e800-49f3-8751-e7604e3fb5a3  2014-10-07 21:43:00.0   \n",
       "7819  cc3a6bd4-d64f-4cbe-b947-c36c3851b487  2014-10-13 15:38:28.0   \n",
       "7820  6e5b4380-66d2-4f2a-8f89-d2794598997d  2014-10-13 15:40:49.0   \n",
       "7821  28caf371-6d1d-4e06-aaf1-e660966ac7a1  2014-10-07 21:30:31.0   \n",
       "7822  90dddef6-23ef-4df3-b454-8fd3d0e8cade  2014-10-08 00:05:05.0   \n",
       "\n",
       "                ts_reply_at         ts_accepted_at ts_booking_at  ds_checkin  \\\n",
       "7818  2014-10-08 08:19:33.0  2014-10-08 08:19:33.0           NaN  2014-10-17   \n",
       "7819  2014-10-13 15:44:56.0                    NaN           NaN  2014-10-17   \n",
       "7820  2014-10-13 15:42:46.0                    NaN           NaN  2014-10-17   \n",
       "7821  2014-10-08 19:04:43.0                    NaN           NaN  2014-10-17   \n",
       "7822  2014-10-12 20:58:12.0                    NaN           NaN  2014-11-11   \n",
       "\n",
       "     ds_checkout  n_guests  n_messages  \n",
       "7818  2014-10-20         2           5  \n",
       "7819  2014-10-20         2           5  \n",
       "7820  2014-10-20         2           3  \n",
       "7821  2014-10-20         2           2  \n",
       "7822  2014-11-18         2           2  "
      ]
     },
     "metadata": {},
     "output_type": "display_data"
    },
    {
     "name": "stdout",
     "output_type": "stream",
     "text": [
      "Percentage of NaN values in dataset:\n",
      " id_guest          0.000000\n",
      "id_host           0.000000\n",
      "id_listing        0.000000\n",
      "ts_contact_at     0.000000\n",
      "ts_reply_at       0.077208\n",
      "ts_accepted_at    0.536367\n",
      "ts_booking_at     0.722101\n",
      "ds_checkin        0.000000\n",
      "ds_checkout       0.000000\n",
      "n_guests          0.000000\n",
      "n_messages        0.000000\n",
      "dtype: float64 \n",
      "\n",
      "Number of duplicated rows: 0\n"
     ]
    }
   ],
   "source": [
    "profile_data(contacts)"
   ]
  },
  {
   "cell_type": "markdown",
   "id": "0a3c7fc9",
   "metadata": {},
   "source": [
    "## Exploratory Data Analysis"
   ]
  },
  {
   "cell_type": "markdown",
   "id": "36387539",
   "metadata": {},
   "source": [
    "### _searches_ Dataset Analysis"
   ]
  },
  {
   "cell_type": "code",
   "execution_count": 7,
   "id": "8a265085",
   "metadata": {},
   "outputs": [],
   "source": [
    "# Drop filter_neighborhoods column\n",
    "searches = searches.drop(columns=['filter_neighborhoods'])"
   ]
  },
  {
   "cell_type": "code",
   "execution_count": 8,
   "id": "f7163619",
   "metadata": {},
   "outputs": [
    {
     "name": "stdout",
     "output_type": "stream",
     "text": [
      "Shape of dataset: (35737, 12)\n"
     ]
    }
   ],
   "source": [
    "print('Shape of dataset:', searches.shape)"
   ]
  },
  {
   "cell_type": "code",
   "execution_count": 9,
   "id": "8abf70cb",
   "metadata": {},
   "outputs": [
    {
     "name": "stdout",
     "output_type": "stream",
     "text": [
      "<class 'pandas.core.frame.DataFrame'>\n",
      "RangeIndex: 35737 entries, 0 to 35736\n",
      "Data columns (total 12 columns):\n",
      " #   Column             Non-Null Count  Dtype  \n",
      "---  ------             --------------  -----  \n",
      " 0   ds                 35737 non-null  object \n",
      " 1   id_user            35737 non-null  object \n",
      " 2   ds_checkin         23888 non-null  object \n",
      " 3   ds_checkout        23888 non-null  object \n",
      " 4   n_searches         35737 non-null  int64  \n",
      " 5   n_nights           23888 non-null  float64\n",
      " 6   n_guests_min       35737 non-null  int64  \n",
      " 7   n_guests_max       35737 non-null  int64  \n",
      " 8   origin_country     35737 non-null  object \n",
      " 9   filter_price_min   13322 non-null  float64\n",
      " 10  filter_price_max   13322 non-null  float64\n",
      " 11  filter_room_types  16191 non-null  object \n",
      "dtypes: float64(3), int64(3), object(6)\n",
      "memory usage: 3.3+ MB\n"
     ]
    }
   ],
   "source": [
    "searches.info()"
   ]
  },
  {
   "cell_type": "code",
   "execution_count": 10,
   "id": "1bdd9bf3",
   "metadata": {},
   "outputs": [],
   "source": [
    "# Manipulation of searches dataset\n",
    "\n",
    "# Convert date column to datetime data type for easier analysis\n",
    "searches['ds'] = pd.to_datetime(searches['ds'])\n",
    "searches['ds_checkin'] = pd.to_datetime(searches['ds_checkin'])\n",
    "searches['ds_checkout'] = pd.to_datetime(searches['ds_checkout'])\n",
    "\n",
    "# How soon they want the room\n",
    "searches['length_preparation'] = searches['ds_checkin'] - searches['ds']"
   ]
  },
  {
   "cell_type": "code",
   "execution_count": 11,
   "id": "1332c956",
   "metadata": {},
   "outputs": [
    {
     "data": {
      "text/html": [
       "<div>\n",
       "<style scoped>\n",
       "    .dataframe tbody tr th:only-of-type {\n",
       "        vertical-align: middle;\n",
       "    }\n",
       "\n",
       "    .dataframe tbody tr th {\n",
       "        vertical-align: top;\n",
       "    }\n",
       "\n",
       "    .dataframe thead th {\n",
       "        text-align: right;\n",
       "    }\n",
       "</style>\n",
       "<table border=\"1\" class=\"dataframe\">\n",
       "  <thead>\n",
       "    <tr style=\"text-align: right;\">\n",
       "      <th></th>\n",
       "      <th>n_searches</th>\n",
       "      <th>n_nights</th>\n",
       "      <th>n_guests_min</th>\n",
       "      <th>n_guests_max</th>\n",
       "      <th>filter_price_min</th>\n",
       "      <th>filter_price_max</th>\n",
       "      <th>length_preparation</th>\n",
       "    </tr>\n",
       "  </thead>\n",
       "  <tbody>\n",
       "    <tr>\n",
       "      <th>count</th>\n",
       "      <td>35737.000000</td>\n",
       "      <td>23888.000000</td>\n",
       "      <td>35737.000000</td>\n",
       "      <td>35737.000000</td>\n",
       "      <td>13322.000000</td>\n",
       "      <td>1.332200e+04</td>\n",
       "      <td>23888</td>\n",
       "    </tr>\n",
       "    <tr>\n",
       "      <th>mean</th>\n",
       "      <td>9.206565</td>\n",
       "      <td>7.672765</td>\n",
       "      <td>1.742955</td>\n",
       "      <td>2.105857</td>\n",
       "      <td>8.470200</td>\n",
       "      <td>9.019063e+07</td>\n",
       "      <td>51 days 08:11:53.730743469</td>\n",
       "    </tr>\n",
       "    <tr>\n",
       "      <th>std</th>\n",
       "      <td>17.348746</td>\n",
       "      <td>21.557614</td>\n",
       "      <td>1.460440</td>\n",
       "      <td>1.817358</td>\n",
       "      <td>53.987679</td>\n",
       "      <td>2.978482e+08</td>\n",
       "      <td>65 days 18:56:19.491940518</td>\n",
       "    </tr>\n",
       "    <tr>\n",
       "      <th>min</th>\n",
       "      <td>1.000000</td>\n",
       "      <td>0.000000</td>\n",
       "      <td>1.000000</td>\n",
       "      <td>1.000000</td>\n",
       "      <td>0.000000</td>\n",
       "      <td>9.000000e+00</td>\n",
       "      <td>-1 days +00:00:00</td>\n",
       "    </tr>\n",
       "    <tr>\n",
       "      <th>25%</th>\n",
       "      <td>1.000000</td>\n",
       "      <td>2.000000</td>\n",
       "      <td>1.000000</td>\n",
       "      <td>1.000000</td>\n",
       "      <td>0.000000</td>\n",
       "      <td>8.600000e+01</td>\n",
       "      <td>10 days 00:00:00</td>\n",
       "    </tr>\n",
       "    <tr>\n",
       "      <th>50%</th>\n",
       "      <td>4.000000</td>\n",
       "      <td>3.000000</td>\n",
       "      <td>1.000000</td>\n",
       "      <td>2.000000</td>\n",
       "      <td>0.000000</td>\n",
       "      <td>1.390000e+02</td>\n",
       "      <td>26 days 00:00:00</td>\n",
       "    </tr>\n",
       "    <tr>\n",
       "      <th>75%</th>\n",
       "      <td>10.000000</td>\n",
       "      <td>5.000000</td>\n",
       "      <td>2.000000</td>\n",
       "      <td>2.000000</td>\n",
       "      <td>0.000000</td>\n",
       "      <td>3.010000e+02</td>\n",
       "      <td>67 days 00:00:00</td>\n",
       "    </tr>\n",
       "    <tr>\n",
       "      <th>max</th>\n",
       "      <td>448.000000</td>\n",
       "      <td>399.000000</td>\n",
       "      <td>16.000000</td>\n",
       "      <td>16.000000</td>\n",
       "      <td>1250.000000</td>\n",
       "      <td>1.073742e+09</td>\n",
       "      <td>604 days 00:00:00</td>\n",
       "    </tr>\n",
       "  </tbody>\n",
       "</table>\n",
       "</div>"
      ],
      "text/plain": [
       "         n_searches      n_nights  n_guests_min  n_guests_max  \\\n",
       "count  35737.000000  23888.000000  35737.000000  35737.000000   \n",
       "mean       9.206565      7.672765      1.742955      2.105857   \n",
       "std       17.348746     21.557614      1.460440      1.817358   \n",
       "min        1.000000      0.000000      1.000000      1.000000   \n",
       "25%        1.000000      2.000000      1.000000      1.000000   \n",
       "50%        4.000000      3.000000      1.000000      2.000000   \n",
       "75%       10.000000      5.000000      2.000000      2.000000   \n",
       "max      448.000000    399.000000     16.000000     16.000000   \n",
       "\n",
       "       filter_price_min  filter_price_max          length_preparation  \n",
       "count      13322.000000      1.332200e+04                       23888  \n",
       "mean           8.470200      9.019063e+07  51 days 08:11:53.730743469  \n",
       "std           53.987679      2.978482e+08  65 days 18:56:19.491940518  \n",
       "min            0.000000      9.000000e+00           -1 days +00:00:00  \n",
       "25%            0.000000      8.600000e+01            10 days 00:00:00  \n",
       "50%            0.000000      1.390000e+02            26 days 00:00:00  \n",
       "75%            0.000000      3.010000e+02            67 days 00:00:00  \n",
       "max         1250.000000      1.073742e+09           604 days 00:00:00  "
      ]
     },
     "metadata": {},
     "output_type": "display_data"
    }
   ],
   "source": [
    "# Describe searches dataset\n",
    "\n",
    "# Helps understand the dataset and its distribution of values within columns better\n",
    "display(searches.describe())"
   ]
  },
  {
   "cell_type": "markdown",
   "id": "d9513e5a",
   "metadata": {},
   "source": [
    "This shows the number of guests is usually 1 or 2. This can be understood since even at 75% the `n_guests_min` and `n_guests_max` are 2 and 25% is 1. Leads to believe that smaller accommodations are preferred."
   ]
  },
  {
   "cell_type": "code",
   "execution_count": 12,
   "id": "5c8f6c49",
   "metadata": {
    "scrolled": true
   },
   "outputs": [
    {
     "data": {
      "text/plain": [
       "n_searches           7.509258\n",
       "n_nights             9.942364\n",
       "n_guests_min         3.583798\n",
       "n_guests_max         3.148548\n",
       "filter_price_min    11.087745\n",
       "filter_price_max     2.999833\n",
       "dtype: float64"
      ]
     },
     "metadata": {},
     "output_type": "display_data"
    }
   ],
   "source": [
    "# Calculate skewness in searches dataset\n",
    "\n",
    "display(searches.skew(axis=0, numeric_only=True, skipna=True))"
   ]
  },
  {
   "cell_type": "markdown",
   "id": "3d5aa77b",
   "metadata": {},
   "source": [
    "All numeric columns have a coefficient value greater than 1. This results in a positive skewness. This suggests the present of outliers in these numerical columns which could heavily impact the descriptive statistics."
   ]
  },
  {
   "cell_type": "markdown",
   "id": "a4ee6214",
   "metadata": {},
   "source": [
    "### Distributions"
   ]
  },
  {
   "cell_type": "code",
   "execution_count": 13,
   "id": "cbd86370",
   "metadata": {},
   "outputs": [
    {
     "data": {
      "image/png": "[encoded data removed]",
      "text/plain": [
       "<Figure size 500x500 with 1 Axes>"
      ]
     },
     "metadata": {},
     "output_type": "display_data"
    },
    {
     "data": {
      "image/png": "[encoded data removed]",
      "text/plain": [
       "<Figure size 500x500 with 1 Axes>"
      ]
     },
     "metadata": {},
     "output_type": "display_data"
    }
   ],
   "source": [
    "# Distribution plot of n_guests_min and n_guests_max\n",
    "sns.displot(searches, x='n_guests_min', color='brown')\n",
    "sns.displot(searches, x='n_guests_max', color='black')\n",
    "plt.show()"
   ]
  },
  {
   "cell_type": "markdown",
   "id": "12e3b10c",
   "metadata": {},
   "source": [
    "Both have similar distributions with 1 being the most popular option and 2 being the next popular option."
   ]
  },
  {
   "cell_type": "code",
   "execution_count": 14,
   "id": "bc4c6d26",
   "metadata": {},
   "outputs": [
    {
     "data": {
      "text/plain": [
       "(array([16344., 16346., 16348., 16350., 16352., 16354., 16356.]),\n",
       " [Text(16344.0, 0, '2014-10-01'),\n",
       "  Text(16346.0, 0, '2014-10-03'),\n",
       "  Text(16348.0, 0, '2014-10-05'),\n",
       "  Text(16350.0, 0, '2014-10-07'),\n",
       "  Text(16352.0, 0, '2014-10-09'),\n",
       "  Text(16354.0, 0, '2014-10-11'),\n",
       "  Text(16356.0, 0, '2014-10-13')])"
      ]
     },
     "execution_count": 14,
     "metadata": {},
     "output_type": "execute_result"
    },
    {
     "data": {
      "image/png": "[encoded data removed]",
      "text/plain": [
       "<Figure size 500x500 with 1 Axes>"
      ]
     },
     "metadata": {},
     "output_type": "display_data"
    }
   ],
   "source": [
    "# When were searches conducted\n",
    "\n",
    "ax = sns.displot(searches, x='ds', color='brown')\n",
    "plt.xticks(rotation=90)"
   ]
  },
  {
   "cell_type": "markdown",
   "id": "ff7f3567",
   "metadata": {},
   "source": [
    "Noticed all date searches were between 1st of October 2014 to 14th of October 2014. No major variation in when search was conducted between these dates."
   ]
  },
  {
   "cell_type": "code",
   "execution_count": 15,
   "id": "7820160e",
   "metadata": {},
   "outputs": [
    {
     "name": "stdout",
     "output_type": "stream",
     "text": [
      "Percentage of dataset with max price above 600: 5.311022189887232 %\n"
     ]
    }
   ],
   "source": [
    "# Percentage of dataset with a filter_price_max above 600\n",
    "\n",
    "print('Percentage of dataset with max price above 600:', len(searches[searches['filter_price_max'] > 600]) / len(searches['filter_price_max'])*100, '%')"
   ]
  },
  {
   "cell_type": "code",
   "execution_count": 16,
   "id": "4878a214",
   "metadata": {},
   "outputs": [
    {
     "data": {
      "image/png": "[encoded data removed]",
      "text/plain": [
       "<Figure size 500x500 with 1 Axes>"
      ]
     },
     "metadata": {},
     "output_type": "display_data"
    }
   ],
   "source": [
    "# Distribution of filter_price_max of searches\n",
    "\n",
    "# Removing the set upper limit\n",
    "searches_maxprice_removed = searches[searches['filter_price_max'] <= 600]\n",
    "\n",
    "# Distribution plot of filter_price_max column\n",
    "sns.displot(x=searches_maxprice_removed['filter_price_max'], color='blue')\n",
    "plt.show()"
   ]
  },
  {
   "cell_type": "markdown",
   "id": "0a794e95",
   "metadata": {},
   "source": [
    "`filter_price_max` was chosen instead of `filter_price_min` due to the min usually being set at $0.\n",
    "\n",
    "To futher help better visualize the trend we set the `filter_price_max` as less or equal to 600. 600 was chosen as the limit since only 5.31\\% of the dataset has values greater than 600.\n",
    "\n",
    "It can be seen that the price filter distribution peaks at around 80 which shows that most people has a budget within that value."
   ]
  },
  {
   "cell_type": "code",
   "execution_count": 17,
   "id": "1bff3dbb",
   "metadata": {},
   "outputs": [
    {
     "name": "stdout",
     "output_type": "stream",
     "text": [
      "Percentage of dataset beyond 100 days: 9.396423874415872 % \n",
      "\n"
     ]
    },
    {
     "data": {
      "image/png": "[encoded data removed]",
      "text/plain": [
       "<Figure size 500x500 with 1 Axes>"
      ]
     },
     "metadata": {},
     "output_type": "display_data"
    }
   ],
   "source": [
    "# Distribution of length_preparation of searches\n",
    "\n",
    "# Percentage of dataset beyond 100 days\n",
    "distribution = searches['length_preparation'] / np.timedelta64(1, 'D') # converts to numerical format\n",
    "print('Percentage of dataset beyond 100 days:', len(distribution[distribution > 100]) / len(distribution) * 100, '% \\n')\n",
    "\n",
    "# Remove values beyond 100 days\n",
    "distribution = distribution[distribution < 100]\n",
    "\n",
    "# Distribution plot of length_preparation column\n",
    "sns.displot(x=distribution, color='green')\n",
    "plt.show()"
   ]
  },
  {
   "cell_type": "markdown",
   "id": "14a793da",
   "metadata": {},
   "source": [
    "100 days was chosen as the limit since only 9.40% of the dataset exists beyond that.\n",
    "\n",
    "Most people appear to make very brief preparation prior to check in as `length_preparation` seems to largely concentrate within the `0 - 20 days` range. This may also imply that people likes to make impromptu visits."
   ]
  },
  {
   "cell_type": "code",
   "execution_count": 18,
   "id": "cbbce04b",
   "metadata": {},
   "outputs": [
    {
     "name": "stdout",
     "output_type": "stream",
     "text": [
      "Percentage of dataset beyond 20 nights: 4.737387021854101 % \n",
      "\n",
      "Mean n_nights: 3.766924084360746\n"
     ]
    },
    {
     "data": {
      "image/png": "[encoded data removed]",
      "text/plain": [
       "<Figure size 500x500 with 1 Axes>"
      ]
     },
     "metadata": {},
     "output_type": "display_data"
    }
   ],
   "source": [
    "# Distribution of n_nights of searches\n",
    "\n",
    "# Percentage of dataset beyond 20 nights\n",
    "print('Percentage of dataset beyond 20 nights:', len(searches[searches['n_nights'] > 20]) / len(searches['n_nights'])*100, '% \\n')\n",
    "\n",
    "# Remove n_nights beyond 20 days\n",
    "searches_within_twenty = searches[searches['n_nights'] < 20]\n",
    "print('Mean n_nights:', (searches.loc[searches['n_nights'] < 20, 'n_nights']).mean())\n",
    "\n",
    "# Distribution plot of n_nights column\n",
    "sns.displot(searches_within_twenty, x='n_nights', color='red')\n",
    "plt.show()"
   ]
  },
  {
   "cell_type": "markdown",
   "id": "c89304b6",
   "metadata": {},
   "source": [
    "Removing `n_nights` beyond 20 days since only 4.73% of the dataset exists beyond 20 days.\n",
    "\n",
    "Based on the distribution, most people tend to spend `3 - 4 nights` on their visits."
   ]
  },
  {
   "cell_type": "code",
   "execution_count": 19,
   "id": "eb21d8e9",
   "metadata": {},
   "outputs": [
    {
     "data": {
      "image/png": "[encoded data removed]",
      "text/plain": [
       "<Figure size 500x500 with 1 Axes>"
      ]
     },
     "metadata": {},
     "output_type": "display_data"
    }
   ],
   "source": [
    "# Distribution of months of ds_checkin of searches\n",
    "\n",
    "#checkin_month = pd.DatetimeIndex(searches['ds_checkin']).month\n",
    "checkin_month = searches['ds_checkin'].dt.month\n",
    "\n",
    "# Distribution plot of ds_checkin of column\n",
    "sns.displot(checkin_month, color='yellow')\n",
    "plt.show()"
   ]
  },
  {
   "cell_type": "markdown",
   "id": "d7de936d",
   "metadata": {},
   "source": [
    "Used only the check-in month, as check-out is usually within 3/4 days. The mean `n_nights` after removing the upper outlier limit is 3.7, so assumed 3 or 4 days after check-in date people usually check-out."
   ]
  },
  {
   "cell_type": "code",
   "execution_count": 20,
   "id": "793047dc",
   "metadata": {},
   "outputs": [
    {
     "data": {
      "text/plain": [
       ",Entire home/apt                                              6331\n",
       "Entire home/apt                                               3667\n",
       ",Private room                                                 1693\n",
       "Private room                                                  1147\n",
       ",Entire home/apt,Entire home/apt,Private room                  415\n",
       "Entire home/apt,Private room                                   379\n",
       ",Entire home/apt,Entire home/apt,Private room,Private room     370\n",
       ",Entire home/apt,Private room                                  365\n",
       ",Entire home/apt,Private room,Private room                     230\n",
       ",Private room,Entire home/apt                                  137\n",
       "Name: filter_room_types, dtype: int64"
      ]
     },
     "execution_count": 20,
     "metadata": {},
     "output_type": "execute_result"
    }
   ],
   "source": [
    "# Types of rooms searched for\n",
    "\n",
    "searches['filter_room_types'].value_counts().sort_values(ascending=False).head(10)"
   ]
  },
  {
   "cell_type": "markdown",
   "id": "37fe2e27",
   "metadata": {},
   "source": [
    "Most of the room types requested were entire home/apt and private rooms sometimes shared rooms. This column should be cleaned since most filter values are repeated within the same cell. On the Airbnb website, there are only 4 values in the type of place:\n",
    "\n",
    "- Entire Place\n",
    "- Private Room\n",
    "- Hotel Room\n",
    "- Shared Room"
   ]
  },
  {
   "cell_type": "code",
   "execution_count": 21,
   "id": "529185d2",
   "metadata": {},
   "outputs": [],
   "source": [
    "# Clean and transform the filter_room_types column to remove repeated values within the same cell and standardize the strings\n",
    "valid_room_types = {'Entire home/apt':'Entire Place', 'Private room':'Private Room', \n",
    "                    'Hotel room':'Hotel Room', 'Shared room':'Shared Room'}\n",
    "\n",
    "def clean_room_types(room_types):\n",
    "    if pd.isna(room_types):\n",
    "        return ''\n",
    "    # Split by comma and strip whitespace and leading comma\n",
    "    types = [rt.strip().lstrip(',') for rt in room_types.split(',')]\n",
    "    # Keep only unique, valid types and map to standardized names via set comprehension\n",
    "    cleaned_types = {valid_room_types.get(rt) for rt in types if rt in valid_room_types}\n",
    "    # Return a standardized string with unique types\n",
    "    return ', '.join(cleaned_types)\n",
    "\n",
    "# Apply the function to the filter_room_types column, also replacing any blanks with np.nan, \n",
    "# followed by replacing the np.nan with its original values if it's not part of the valid_room_types dictionary\n",
    "searches['filter_room_types_cleaned'] = (searches['filter_room_types']\n",
    "                                         .apply(clean_room_types)\n",
    "                                         .replace('', np.nan)\n",
    "                                         .fillna(searches['filter_room_types'])\n",
    "                                        )"
   ]
  },
  {
   "cell_type": "code",
   "execution_count": 22,
   "id": "4cab306b",
   "metadata": {
    "scrolled": true
   },
   "outputs": [
    {
     "data": {
      "text/plain": [
       "Entire Place                               9998\n",
       "Private Room                               2840\n",
       "Entire Place, Private Room                 2404\n",
       "Entire Place, Private Room, Shared Room     460\n",
       "Private Room, Shared Room                   260\n",
       "Shared Room                                 128\n",
       "Entire Place, Shared Room                   101\n",
       "Name: filter_room_types_cleaned, dtype: int64"
      ]
     },
     "execution_count": 22,
     "metadata": {},
     "output_type": "execute_result"
    }
   ],
   "source": [
    "searches['filter_room_types_cleaned'].value_counts().sort_values(ascending=False)"
   ]
  },
  {
   "cell_type": "markdown",
   "id": "a734d9fb",
   "metadata": {},
   "source": [
    "The above output still gives similar result as the previous where most search filter is set to `Entire Place`, followed by `Private Room`."
   ]
  },
  {
   "cell_type": "code",
   "execution_count": 23,
   "id": "3c9a5783",
   "metadata": {},
   "outputs": [
    {
     "data": {
      "text/html": [
       "<div>\n",
       "<style scoped>\n",
       "    .dataframe tbody tr th:only-of-type {\n",
       "        vertical-align: middle;\n",
       "    }\n",
       "\n",
       "    .dataframe tbody tr th {\n",
       "        vertical-align: top;\n",
       "    }\n",
       "\n",
       "    .dataframe thead th {\n",
       "        text-align: right;\n",
       "    }\n",
       "</style>\n",
       "<table border=\"1\" class=\"dataframe\">\n",
       "  <thead>\n",
       "    <tr style=\"text-align: right;\">\n",
       "      <th></th>\n",
       "      <th>count</th>\n",
       "    </tr>\n",
       "    <tr>\n",
       "      <th>origin_country</th>\n",
       "      <th></th>\n",
       "    </tr>\n",
       "  </thead>\n",
       "  <tbody>\n",
       "    <tr>\n",
       "      <th>IE</th>\n",
       "      <td>6608</td>\n",
       "    </tr>\n",
       "    <tr>\n",
       "      <th>US</th>\n",
       "      <td>5811</td>\n",
       "    </tr>\n",
       "    <tr>\n",
       "      <th>GB</th>\n",
       "      <td>4832</td>\n",
       "    </tr>\n",
       "    <tr>\n",
       "      <th>FR</th>\n",
       "      <td>3444</td>\n",
       "    </tr>\n",
       "    <tr>\n",
       "      <th>IT</th>\n",
       "      <td>2333</td>\n",
       "    </tr>\n",
       "    <tr>\n",
       "      <th>DE</th>\n",
       "      <td>2170</td>\n",
       "    </tr>\n",
       "    <tr>\n",
       "      <th>ES</th>\n",
       "      <td>1759</td>\n",
       "    </tr>\n",
       "    <tr>\n",
       "      <th>CA</th>\n",
       "      <td>1085</td>\n",
       "    </tr>\n",
       "    <tr>\n",
       "      <th>AU</th>\n",
       "      <td>962</td>\n",
       "    </tr>\n",
       "    <tr>\n",
       "      <th>NL</th>\n",
       "      <td>843</td>\n",
       "    </tr>\n",
       "    <tr>\n",
       "      <th>BR</th>\n",
       "      <td>636</td>\n",
       "    </tr>\n",
       "    <tr>\n",
       "      <th>CH</th>\n",
       "      <td>535</td>\n",
       "    </tr>\n",
       "    <tr>\n",
       "      <th>BE</th>\n",
       "      <td>386</td>\n",
       "    </tr>\n",
       "    <tr>\n",
       "      <th>AT</th>\n",
       "      <td>320</td>\n",
       "    </tr>\n",
       "    <tr>\n",
       "      <th>RU</th>\n",
       "      <td>274</td>\n",
       "    </tr>\n",
       "  </tbody>\n",
       "</table>\n",
       "</div>"
      ],
      "text/plain": [
       "                count\n",
       "origin_country       \n",
       "IE               6608\n",
       "US               5811\n",
       "GB               4832\n",
       "FR               3444\n",
       "IT               2333\n",
       "DE               2170\n",
       "ES               1759\n",
       "CA               1085\n",
       "AU                962\n",
       "NL                843\n",
       "BR                636\n",
       "CH                535\n",
       "BE                386\n",
       "AT                320\n",
       "RU                274"
      ]
     },
     "execution_count": 23,
     "metadata": {},
     "output_type": "execute_result"
    }
   ],
   "source": [
    "# Find top 15 countries where searches originate from\n",
    "\n",
    "# Group by origin country and finding the count of each country\n",
    "search_origin = searches.groupby(\"origin_country\").agg({'origin_country':'count'})\n",
    "search_origin.columns = ['count']\n",
    "\n",
    "search_origin = search_origin.sort_values('count', ascending=False)\n",
    "search_origin.nlargest(15, 'count')"
   ]
  },
  {
   "cell_type": "markdown",
   "id": "87fde6f1",
   "metadata": {},
   "source": [
    "Most of the searches originate from `Ireland`, followed by `United States` and `Great Britain`. This makes sense as people who lives local to the area tend to have more knowledge and awareness to inquire on a trip to the area."
   ]
  },
  {
   "cell_type": "markdown",
   "id": "c529fc8d",
   "metadata": {},
   "source": [
    "### _contacts_ Dataset Analysis"
   ]
  },
  {
   "cell_type": "code",
   "execution_count": 24,
   "id": "7946b52f",
   "metadata": {},
   "outputs": [
    {
     "data": {
      "text/plain": [
       "id_guest                   object\n",
       "id_host                    object\n",
       "id_listing                 object\n",
       "ts_contact_at      datetime64[ns]\n",
       "ts_reply_at        datetime64[ns]\n",
       "ts_accepted_at     datetime64[ns]\n",
       "ts_booking_at      datetime64[ns]\n",
       "ds_checkin         datetime64[ns]\n",
       "ds_checkout        datetime64[ns]\n",
       "n_guests                    int64\n",
       "n_messages                  int64\n",
       "accepted                     bool\n",
       "length_stay       timedelta64[ns]\n",
       "dtype: object"
      ]
     },
     "metadata": {},
     "output_type": "display_data"
    },
    {
     "data": {
      "text/html": [
       "<div>\n",
       "<style scoped>\n",
       "    .dataframe tbody tr th:only-of-type {\n",
       "        vertical-align: middle;\n",
       "    }\n",
       "\n",
       "    .dataframe tbody tr th {\n",
       "        vertical-align: top;\n",
       "    }\n",
       "\n",
       "    .dataframe thead th {\n",
       "        text-align: right;\n",
       "    }\n",
       "</style>\n",
       "<table border=\"1\" class=\"dataframe\">\n",
       "  <thead>\n",
       "    <tr style=\"text-align: right;\">\n",
       "      <th></th>\n",
       "      <th>n_guests</th>\n",
       "      <th>n_messages</th>\n",
       "      <th>length_stay</th>\n",
       "    </tr>\n",
       "  </thead>\n",
       "  <tbody>\n",
       "    <tr>\n",
       "      <th>count</th>\n",
       "      <td>7823.000000</td>\n",
       "      <td>7823.000000</td>\n",
       "      <td>7823</td>\n",
       "    </tr>\n",
       "    <tr>\n",
       "      <th>mean</th>\n",
       "      <td>2.422600</td>\n",
       "      <td>6.319954</td>\n",
       "      <td>5 days 19:25:32.864629937</td>\n",
       "    </tr>\n",
       "    <tr>\n",
       "      <th>std</th>\n",
       "      <td>1.617347</td>\n",
       "      <td>6.472827</td>\n",
       "      <td>14 days 23:45:24.447710564</td>\n",
       "    </tr>\n",
       "    <tr>\n",
       "      <th>min</th>\n",
       "      <td>1.000000</td>\n",
       "      <td>1.000000</td>\n",
       "      <td>1 days 00:00:00</td>\n",
       "    </tr>\n",
       "    <tr>\n",
       "      <th>25%</th>\n",
       "      <td>1.000000</td>\n",
       "      <td>2.000000</td>\n",
       "      <td>2 days 00:00:00</td>\n",
       "    </tr>\n",
       "    <tr>\n",
       "      <th>50%</th>\n",
       "      <td>2.000000</td>\n",
       "      <td>4.000000</td>\n",
       "      <td>3 days 00:00:00</td>\n",
       "    </tr>\n",
       "    <tr>\n",
       "      <th>75%</th>\n",
       "      <td>3.000000</td>\n",
       "      <td>8.000000</td>\n",
       "      <td>5 days 00:00:00</td>\n",
       "    </tr>\n",
       "    <tr>\n",
       "      <th>max</th>\n",
       "      <td>16.000000</td>\n",
       "      <td>102.000000</td>\n",
       "      <td>334 days 00:00:00</td>\n",
       "    </tr>\n",
       "  </tbody>\n",
       "</table>\n",
       "</div>"
      ],
      "text/plain": [
       "          n_guests   n_messages                 length_stay\n",
       "count  7823.000000  7823.000000                        7823\n",
       "mean      2.422600     6.319954   5 days 19:25:32.864629937\n",
       "std       1.617347     6.472827  14 days 23:45:24.447710564\n",
       "min       1.000000     1.000000             1 days 00:00:00\n",
       "25%       1.000000     2.000000             2 days 00:00:00\n",
       "50%       2.000000     4.000000             3 days 00:00:00\n",
       "75%       3.000000     8.000000             5 days 00:00:00\n",
       "max      16.000000   102.000000           334 days 00:00:00"
      ]
     },
     "metadata": {},
     "output_type": "display_data"
    },
    {
     "name": "stdout",
     "output_type": "stream",
     "text": [
      "Shape of dataset: (7823, 13)\n"
     ]
    }
   ],
   "source": [
    "# Manipulation of contacts dataset\n",
    "\n",
    "# Convert date columns to datetime data type\n",
    "contacts['ts_contact_at'] = pd.to_datetime(contacts['ts_contact_at'])\n",
    "contacts['ts_reply_at'] = pd.to_datetime(contacts['ts_reply_at'])\n",
    "contacts['ts_accepted_at'] = pd.to_datetime(contacts['ts_accepted_at'])\n",
    "contacts['ts_booking_at'] = pd.to_datetime(contacts['ts_booking_at'])\n",
    "contacts['ds_checkin'] = pd.to_datetime(contacts['ds_checkin'])\n",
    "contacts['ds_checkout'] = pd.to_datetime(contacts['ds_checkout'])\n",
    "contacts['accepted'] = np.where(np.isnan(contacts['ts_accepted_at']), False, True) # If ts_accepted_at is nan, host did not accept\n",
    "\n",
    "contacts['length_stay'] = contacts['ds_checkout'] - contacts['ds_checkin']\n",
    "\n",
    "# Review dataset\n",
    "display(contacts.dtypes)\n",
    "display(contacts.describe())\n",
    "print('Shape of dataset:', contacts.shape)"
   ]
  },
  {
   "cell_type": "code",
   "execution_count": 25,
   "id": "342116dc",
   "metadata": {},
   "outputs": [
    {
     "data": {
      "text/plain": [
       "n_guests      2.441468\n",
       "n_messages    3.696440\n",
       "accepted      0.145883\n",
       "dtype: float64"
      ]
     },
     "metadata": {},
     "output_type": "display_data"
    }
   ],
   "source": [
    "# Calculate skewness in contacts dataset\n",
    "\n",
    "display(contacts.skew(axis=0, numeric_only=True, skipna=True))"
   ]
  },
  {
   "cell_type": "markdown",
   "id": "16d37ebe",
   "metadata": {},
   "source": [
    "All columns have coefficient value greater than 1 except for `accepted` which could be due to it being derived from existing columns."
   ]
  },
  {
   "cell_type": "code",
   "execution_count": 26,
   "id": "ae1758df",
   "metadata": {},
   "outputs": [
    {
     "data": {
      "text/plain": [
       "<seaborn.axisgrid.FacetGrid at 0x20d2dccd2d0>"
      ]
     },
     "execution_count": 26,
     "metadata": {},
     "output_type": "execute_result"
    },
    {
     "data": {
      "image/png": "[encoded data removed]",
      "text/plain": [
       "<Figure size 584.875x500 with 1 Axes>"
      ]
     },
     "metadata": {},
     "output_type": "display_data"
    }
   ],
   "source": [
    "# Number of guests stayed\n",
    "\n",
    "contacts_less8 = contacts[contacts['n_guests'] < 8]\n",
    "sns.displot(contacts_less8, x='n_guests', hue='accepted', multiple='dodge')"
   ]
  },
  {
   "cell_type": "markdown",
   "id": "d306b42c",
   "metadata": {},
   "source": [
    "Choosing less than 8 guests, since only 0.75% of the contacts dataset has 8 or more guests. To better visualize the majority distribution we removed rows with 8 or more guests.\n",
    "\n",
    "2 guests is the most popular option to book, but 1 guest is the most popularly searched option. This leads me to believe there is a lack of supply of viable single guest rooms."
   ]
  },
  {
   "cell_type": "code",
   "execution_count": 27,
   "id": "6e1be072",
   "metadata": {},
   "outputs": [
    {
     "data": {
      "text/plain": [
       "0.5993934381031155"
      ]
     },
     "execution_count": 27,
     "metadata": {},
     "output_type": "execute_result"
    }
   ],
   "source": [
    "# Conversion rate from accepting to booking\n",
    "\n",
    "contacts['ts_booking_at'].count()/contacts['ts_accepted_at'].count()"
   ]
  },
  {
   "cell_type": "markdown",
   "id": "a07208a5",
   "metadata": {},
   "source": [
    "The conversion rate is about `60%` which suggests that it is not definite for a booking to happen even when the host accepts an inquiry."
   ]
  },
  {
   "cell_type": "code",
   "execution_count": 28,
   "id": "9071246a",
   "metadata": {
    "scrolled": false
   },
   "outputs": [
    {
     "data": {
      "image/png": "[encoded data removed]",
      "text/plain": [
       "<Figure size 584.875x500 with 1 Axes>"
      ]
     },
     "metadata": {},
     "output_type": "display_data"
    }
   ],
   "source": [
    "# Timeframe of when guests checkin segmented by accepted vs rejected\n",
    "contacts['month_checkin'] = contacts['ds_checkin'].dt.month\n",
    "contacts_checkin = contacts[contacts['month_checkin'] > 9] # Use only peak season months (Oct, Nov, Dec)\n",
    "\n",
    "# Distribution of checkin among October, November, and December and split by acceptance\n",
    "sns.displot(contacts_checkin, x='month_checkin', hue='accepted', multiple='dodge')\n",
    "plt.xticks([10, 11, 12])\n",
    "plt.show()"
   ]
  },
  {
   "cell_type": "markdown",
   "id": "dd913fef",
   "metadata": {},
   "source": [
    "`October` seems to have the most number of inquiry with **accepted being more than rejected**. The highest number of inquiry made among the other months is possibly due to it being the holiday month of the year."
   ]
  },
  {
   "cell_type": "markdown",
   "id": "53cd0400",
   "metadata": {},
   "source": [
    "### Merged Datasets Analysis"
   ]
  },
  {
   "cell_type": "code",
   "execution_count": 29,
   "id": "c9e66d57",
   "metadata": {
    "scrolled": false
   },
   "outputs": [
    {
     "name": "stdout",
     "output_type": "stream",
     "text": [
      "Shape of dataset: (28536, 28)\n"
     ]
    },
    {
     "data": {
      "text/html": [
       "<div>\n",
       "<style scoped>\n",
       "    .dataframe tbody tr th:only-of-type {\n",
       "        vertical-align: middle;\n",
       "    }\n",
       "\n",
       "    .dataframe tbody tr th {\n",
       "        vertical-align: top;\n",
       "    }\n",
       "\n",
       "    .dataframe thead th {\n",
       "        text-align: right;\n",
       "    }\n",
       "</style>\n",
       "<table border=\"1\" class=\"dataframe\">\n",
       "  <thead>\n",
       "    <tr style=\"text-align: right;\">\n",
       "      <th></th>\n",
       "      <th>id_guest</th>\n",
       "      <th>id_host</th>\n",
       "      <th>id_listing</th>\n",
       "      <th>ts_contact_at</th>\n",
       "      <th>ts_reply_at</th>\n",
       "      <th>ts_accepted_at</th>\n",
       "      <th>ts_booking_at</th>\n",
       "      <th>ds_checkin_x</th>\n",
       "      <th>ds_checkout_x</th>\n",
       "      <th>n_guests</th>\n",
       "      <th>...</th>\n",
       "      <th>n_searches</th>\n",
       "      <th>n_nights</th>\n",
       "      <th>n_guests_min</th>\n",
       "      <th>n_guests_max</th>\n",
       "      <th>origin_country</th>\n",
       "      <th>filter_price_min</th>\n",
       "      <th>filter_price_max</th>\n",
       "      <th>filter_room_types</th>\n",
       "      <th>length_preparation</th>\n",
       "      <th>filter_room_types_cleaned</th>\n",
       "    </tr>\n",
       "  </thead>\n",
       "  <tbody>\n",
       "    <tr>\n",
       "      <th>0</th>\n",
       "      <td>000dfad9-459b-4f0b-8310-3d6ab34e4f57</td>\n",
       "      <td>13bb24b8-d432-43a2-9755-5ea11b43bb69</td>\n",
       "      <td>21d2b1a2-fdc3-4b4c-a1f0-0eaf0cc02370</td>\n",
       "      <td>2014-10-04 16:26:28</td>\n",
       "      <td>2014-10-04 16:26:28</td>\n",
       "      <td>2014-10-04 16:26:28</td>\n",
       "      <td>2014-10-04 16:26:28</td>\n",
       "      <td>2014-10-13</td>\n",
       "      <td>2014-10-15</td>\n",
       "      <td>2</td>\n",
       "      <td>...</td>\n",
       "      <td>6</td>\n",
       "      <td>2.0</td>\n",
       "      <td>2</td>\n",
       "      <td>2</td>\n",
       "      <td>CA</td>\n",
       "      <td>0.0</td>\n",
       "      <td>130.0</td>\n",
       "      <td>,Entire home/apt</td>\n",
       "      <td>9 days</td>\n",
       "      <td>Entire Place</td>\n",
       "    </tr>\n",
       "    <tr>\n",
       "      <th>1</th>\n",
       "      <td>00197051-c6cb-4c3a-99e9-86615b819874</td>\n",
       "      <td>46aa3897-9c00-4d76-ac66-a307593d0675</td>\n",
       "      <td>fb5ed09a-9848-4f2c-b2ef-34deb62164fb</td>\n",
       "      <td>2014-11-04 09:10:03</td>\n",
       "      <td>2014-11-04 09:45:50</td>\n",
       "      <td>2014-11-04 09:45:50</td>\n",
       "      <td>2014-11-04 12:20:46</td>\n",
       "      <td>2014-11-27</td>\n",
       "      <td>2014-11-30</td>\n",
       "      <td>1</td>\n",
       "      <td>...</td>\n",
       "      <td>13</td>\n",
       "      <td>3.0</td>\n",
       "      <td>1</td>\n",
       "      <td>1</td>\n",
       "      <td>DK</td>\n",
       "      <td>0.0</td>\n",
       "      <td>336.0</td>\n",
       "      <td>,Entire home/apt,Private room,Private room</td>\n",
       "      <td>44 days</td>\n",
       "      <td>Entire Place, Private Room</td>\n",
       "    </tr>\n",
       "    <tr>\n",
       "      <th>2</th>\n",
       "      <td>0027538e-aa9e-4a02-8979-b8397e5d4cba</td>\n",
       "      <td>6bbb88ca-db66-48c5-9c4b-862f7706284a</td>\n",
       "      <td>d3871da6-8012-4dc4-b508-c91f2c10c297</td>\n",
       "      <td>2014-10-10 12:02:50</td>\n",
       "      <td>2014-10-10 15:07:01</td>\n",
       "      <td>NaT</td>\n",
       "      <td>NaT</td>\n",
       "      <td>2014-10-17</td>\n",
       "      <td>2014-10-19</td>\n",
       "      <td>2</td>\n",
       "      <td>...</td>\n",
       "      <td>21</td>\n",
       "      <td>2.0</td>\n",
       "      <td>2</td>\n",
       "      <td>2</td>\n",
       "      <td>CY</td>\n",
       "      <td>0.0</td>\n",
       "      <td>1258.0</td>\n",
       "      <td>,Entire home/apt,Entire home/apt,Private room,...</td>\n",
       "      <td>8 days</td>\n",
       "      <td>Entire Place, Private Room</td>\n",
       "    </tr>\n",
       "    <tr>\n",
       "      <th>3</th>\n",
       "      <td>0027538e-aa9e-4a02-8979-b8397e5d4cba</td>\n",
       "      <td>6bbb88ca-db66-48c5-9c4b-862f7706284a</td>\n",
       "      <td>d3871da6-8012-4dc4-b508-c91f2c10c297</td>\n",
       "      <td>2014-10-10 12:02:50</td>\n",
       "      <td>2014-10-10 15:07:01</td>\n",
       "      <td>NaT</td>\n",
       "      <td>NaT</td>\n",
       "      <td>2014-10-17</td>\n",
       "      <td>2014-10-19</td>\n",
       "      <td>2</td>\n",
       "      <td>...</td>\n",
       "      <td>44</td>\n",
       "      <td>2.0</td>\n",
       "      <td>2</td>\n",
       "      <td>2</td>\n",
       "      <td>CY</td>\n",
       "      <td>0.0</td>\n",
       "      <td>214.0</td>\n",
       "      <td>,Entire home/apt</td>\n",
       "      <td>7 days</td>\n",
       "      <td>Entire Place</td>\n",
       "    </tr>\n",
       "    <tr>\n",
       "      <th>4</th>\n",
       "      <td>0027538e-aa9e-4a02-8979-b8397e5d4cba</td>\n",
       "      <td>8772bc85-a9b7-4d85-a52d-41f3620c2912</td>\n",
       "      <td>0d9b5583-8053-4b67-adfe-8c29eb12efed</td>\n",
       "      <td>2014-10-10 15:23:53</td>\n",
       "      <td>NaT</td>\n",
       "      <td>NaT</td>\n",
       "      <td>NaT</td>\n",
       "      <td>2014-10-17</td>\n",
       "      <td>2014-10-19</td>\n",
       "      <td>2</td>\n",
       "      <td>...</td>\n",
       "      <td>21</td>\n",
       "      <td>2.0</td>\n",
       "      <td>2</td>\n",
       "      <td>2</td>\n",
       "      <td>CY</td>\n",
       "      <td>0.0</td>\n",
       "      <td>1258.0</td>\n",
       "      <td>,Entire home/apt,Entire home/apt,Private room,...</td>\n",
       "      <td>8 days</td>\n",
       "      <td>Entire Place, Private Room</td>\n",
       "    </tr>\n",
       "  </tbody>\n",
       "</table>\n",
       "<p>5 rows × 28 columns</p>\n",
       "</div>"
      ],
      "text/plain": [
       "                               id_guest                               id_host  \\\n",
       "0  000dfad9-459b-4f0b-8310-3d6ab34e4f57  13bb24b8-d432-43a2-9755-5ea11b43bb69   \n",
       "1  00197051-c6cb-4c3a-99e9-86615b819874  46aa3897-9c00-4d76-ac66-a307593d0675   \n",
       "2  0027538e-aa9e-4a02-8979-b8397e5d4cba  6bbb88ca-db66-48c5-9c4b-862f7706284a   \n",
       "3  0027538e-aa9e-4a02-8979-b8397e5d4cba  6bbb88ca-db66-48c5-9c4b-862f7706284a   \n",
       "4  0027538e-aa9e-4a02-8979-b8397e5d4cba  8772bc85-a9b7-4d85-a52d-41f3620c2912   \n",
       "\n",
       "                             id_listing       ts_contact_at  \\\n",
       "0  21d2b1a2-fdc3-4b4c-a1f0-0eaf0cc02370 2014-10-04 16:26:28   \n",
       "1  fb5ed09a-9848-4f2c-b2ef-34deb62164fb 2014-11-04 09:10:03   \n",
       "2  d3871da6-8012-4dc4-b508-c91f2c10c297 2014-10-10 12:02:50   \n",
       "3  d3871da6-8012-4dc4-b508-c91f2c10c297 2014-10-10 12:02:50   \n",
       "4  0d9b5583-8053-4b67-adfe-8c29eb12efed 2014-10-10 15:23:53   \n",
       "\n",
       "          ts_reply_at      ts_accepted_at       ts_booking_at ds_checkin_x  \\\n",
       "0 2014-10-04 16:26:28 2014-10-04 16:26:28 2014-10-04 16:26:28   2014-10-13   \n",
       "1 2014-11-04 09:45:50 2014-11-04 09:45:50 2014-11-04 12:20:46   2014-11-27   \n",
       "2 2014-10-10 15:07:01                 NaT                 NaT   2014-10-17   \n",
       "3 2014-10-10 15:07:01                 NaT                 NaT   2014-10-17   \n",
       "4                 NaT                 NaT                 NaT   2014-10-17   \n",
       "\n",
       "  ds_checkout_x  n_guests  ...  n_searches  n_nights n_guests_min  \\\n",
       "0    2014-10-15         2  ...           6       2.0            2   \n",
       "1    2014-11-30         1  ...          13       3.0            1   \n",
       "2    2014-10-19         2  ...          21       2.0            2   \n",
       "3    2014-10-19         2  ...          44       2.0            2   \n",
       "4    2014-10-19         2  ...          21       2.0            2   \n",
       "\n",
       "   n_guests_max origin_country filter_price_min filter_price_max  \\\n",
       "0             2             CA              0.0            130.0   \n",
       "1             1             DK              0.0            336.0   \n",
       "2             2             CY              0.0           1258.0   \n",
       "3             2             CY              0.0            214.0   \n",
       "4             2             CY              0.0           1258.0   \n",
       "\n",
       "                                   filter_room_types  length_preparation  \\\n",
       "0                                   ,Entire home/apt              9 days   \n",
       "1         ,Entire home/apt,Private room,Private room             44 days   \n",
       "2  ,Entire home/apt,Entire home/apt,Private room,...              8 days   \n",
       "3                                   ,Entire home/apt              7 days   \n",
       "4  ,Entire home/apt,Entire home/apt,Private room,...              8 days   \n",
       "\n",
       "    filter_room_types_cleaned  \n",
       "0                Entire Place  \n",
       "1  Entire Place, Private Room  \n",
       "2  Entire Place, Private Room  \n",
       "3                Entire Place  \n",
       "4  Entire Place, Private Room  \n",
       "\n",
       "[5 rows x 28 columns]"
      ]
     },
     "execution_count": 29,
     "metadata": {},
     "output_type": "execute_result"
    }
   ],
   "source": [
    "# Merge datasets for further analysis\n",
    "\n",
    "merged_datasets = contacts.merge(searches, left_on='id_guest', right_on='id_user')\n",
    "print('Shape of dataset:', merged_datasets.shape)\n",
    "merged_datasets.head()"
   ]
  },
  {
   "cell_type": "code",
   "execution_count": 50,
   "id": "8d439bba",
   "metadata": {},
   "outputs": [
    {
     "data": {
      "text/html": [
       "<div>\n",
       "<style scoped>\n",
       "    .dataframe tbody tr th:only-of-type {\n",
       "        vertical-align: middle;\n",
       "    }\n",
       "\n",
       "    .dataframe tbody tr th {\n",
       "        vertical-align: top;\n",
       "    }\n",
       "\n",
       "    .dataframe thead th {\n",
       "        text-align: right;\n",
       "    }\n",
       "</style>\n",
       "<table border=\"1\" class=\"dataframe\">\n",
       "  <thead>\n",
       "    <tr style=\"text-align: right;\">\n",
       "      <th></th>\n",
       "      <th>accepted</th>\n",
       "    </tr>\n",
       "    <tr>\n",
       "      <th>filter_room_types_cleaned</th>\n",
       "      <th></th>\n",
       "    </tr>\n",
       "  </thead>\n",
       "  <tbody>\n",
       "    <tr>\n",
       "      <th>Entire Place</th>\n",
       "      <td>0.424903</td>\n",
       "    </tr>\n",
       "    <tr>\n",
       "      <th>Entire Place, Private Room</th>\n",
       "      <td>0.437257</td>\n",
       "    </tr>\n",
       "    <tr>\n",
       "      <th>Entire Place, Private Room, Shared Room</th>\n",
       "      <td>0.329705</td>\n",
       "    </tr>\n",
       "    <tr>\n",
       "      <th>Entire Place, Shared Room</th>\n",
       "      <td>0.362319</td>\n",
       "    </tr>\n",
       "    <tr>\n",
       "      <th>Private Room</th>\n",
       "      <td>0.434582</td>\n",
       "    </tr>\n",
       "    <tr>\n",
       "      <th>Private Room, Shared Room</th>\n",
       "      <td>0.430000</td>\n",
       "    </tr>\n",
       "    <tr>\n",
       "      <th>Shared Room</th>\n",
       "      <td>0.368421</td>\n",
       "    </tr>\n",
       "  </tbody>\n",
       "</table>\n",
       "</div>"
      ],
      "text/plain": [
       "                                         accepted\n",
       "filter_room_types_cleaned                        \n",
       "Entire Place                             0.424903\n",
       "Entire Place, Private Room               0.437257\n",
       "Entire Place, Private Room, Shared Room  0.329705\n",
       "Entire Place, Shared Room                0.362319\n",
       "Private Room                             0.434582\n",
       "Private Room, Shared Room                0.430000\n",
       "Shared Room                              0.368421"
      ]
     },
     "metadata": {},
     "output_type": "display_data"
    },
    {
     "data": {
      "image/png": "[encoded data removed]",
      "text/plain": [
       "<Figure size 584.875x500 with 1 Axes>"
      ]
     },
     "metadata": {},
     "output_type": "display_data"
    }
   ],
   "source": [
    "# Check the acceptance rate based filter_room_types\n",
    "display(merged_datasets.groupby('filter_room_types_cleaned').agg({'accepted':'mean'}))\n",
    "\n",
    "sns.displot(merged_datasets, x='filter_room_types_cleaned', hue='accepted', multiple='dodge')\n",
    "plt.xticks(rotation=90)\n",
    "plt.show()"
   ]
  },
  {
   "cell_type": "markdown",
   "id": "06990fe0",
   "metadata": {},
   "source": [
    "It seems that the acceptance rate remains below 50% irrespective of room types, with **private room having the highest acceptance rate of 43.5%**."
   ]
  },
  {
   "cell_type": "code",
   "execution_count": 30,
   "id": "28d97e67",
   "metadata": {},
   "outputs": [
    {
     "data": {
      "image/png": "[encoded data removed]",
      "text/plain": [
       "<Figure size 584.875x500 with 1 Axes>"
      ]
     },
     "metadata": {},
     "output_type": "display_data"
    }
   ],
   "source": [
    "# Check difference between prices searched segmented by accepted/rejected applicants\n",
    "\n",
    "merged_pricemax_filter = merged_datasets.loc[(merged_datasets['filter_price_max'] <= 600)]\n",
    "\n",
    "sns.displot(merged_pricemax_filter, x='filter_price_max', hue='accepted', multiple='dodge')\n",
    "plt.show()"
   ]
  },
  {
   "cell_type": "markdown",
   "id": "0ca9f1c6",
   "metadata": {},
   "source": [
    "To further help better visualize the trend we set the filter price max as less or equal to 600. 600 was chosen as the limit since only 6.33% of the dataset has values greater than 600.\n",
    "\n",
    "As seen, more people are rejected than accepted with an average acceptance rate of 43%."
   ]
  },
  {
   "cell_type": "code",
   "execution_count": 31,
   "id": "39ff1a0d",
   "metadata": {
    "scrolled": true
   },
   "outputs": [
    {
     "data": {
      "text/html": [
       "<div>\n",
       "<style scoped>\n",
       "    .dataframe tbody tr th:only-of-type {\n",
       "        vertical-align: middle;\n",
       "    }\n",
       "\n",
       "    .dataframe tbody tr th {\n",
       "        vertical-align: top;\n",
       "    }\n",
       "\n",
       "    .dataframe thead th {\n",
       "        text-align: right;\n",
       "    }\n",
       "</style>\n",
       "<table border=\"1\" class=\"dataframe\">\n",
       "  <thead>\n",
       "    <tr style=\"text-align: right;\">\n",
       "      <th></th>\n",
       "      <th>accepted</th>\n",
       "    </tr>\n",
       "    <tr>\n",
       "      <th>classification_max_price</th>\n",
       "      <th></th>\n",
       "    </tr>\n",
       "  </thead>\n",
       "  <tbody>\n",
       "    <tr>\n",
       "      <th>0-100</th>\n",
       "      <td>0.411160</td>\n",
       "    </tr>\n",
       "    <tr>\n",
       "      <th>100-200</th>\n",
       "      <td>0.430308</td>\n",
       "    </tr>\n",
       "    <tr>\n",
       "      <th>200-300</th>\n",
       "      <td>0.431149</td>\n",
       "    </tr>\n",
       "    <tr>\n",
       "      <th>300-400</th>\n",
       "      <td>0.450488</td>\n",
       "    </tr>\n",
       "    <tr>\n",
       "      <th>400-500</th>\n",
       "      <td>0.485549</td>\n",
       "    </tr>\n",
       "    <tr>\n",
       "      <th>500-600</th>\n",
       "      <td>0.422297</td>\n",
       "    </tr>\n",
       "    <tr>\n",
       "      <th>600+</th>\n",
       "      <td>0.433122</td>\n",
       "    </tr>\n",
       "  </tbody>\n",
       "</table>\n",
       "</div>"
      ],
      "text/plain": [
       "                          accepted\n",
       "classification_max_price          \n",
       "0-100                     0.411160\n",
       "100-200                   0.430308\n",
       "200-300                   0.431149\n",
       "300-400                   0.450488\n",
       "400-500                   0.485549\n",
       "500-600                   0.422297\n",
       "600+                      0.433122"
      ]
     },
     "execution_count": 31,
     "metadata": {},
     "output_type": "execute_result"
    }
   ],
   "source": [
    "# Classify dataset based on filter_price_max\n",
    "\n",
    "def label_price(row):\n",
    "    if (row['filter_price_max'] >= 0) & (row['filter_price_max'] < 100):\n",
    "        return '0-100'\n",
    "    \n",
    "    elif (row['filter_price_max'] >= 100) & (row['filter_price_max'] < 200):\n",
    "        return '100-200'\n",
    "    \n",
    "    elif (row['filter_price_max'] >= 200) & (row['filter_price_max'] < 300):\n",
    "        return '200-300'\n",
    "    \n",
    "    elif (row['filter_price_max'] >= 300) & (row['filter_price_max'] < 400):\n",
    "        return '300-400'\n",
    "    \n",
    "    elif (row['filter_price_max'] >= 400) & (row['filter_price_max'] < 500):\n",
    "        return '400-500'\n",
    "    \n",
    "    elif (row['filter_price_max'] >= 500) & (row['filter_price_max'] < 600):\n",
    "        return '500-600'\n",
    "    \n",
    "    else:\n",
    "        return '600+'\n",
    "\n",
    "merged_datasets['classification_max_price'] = merged_datasets.apply(lambda row: label_price(row), axis=1)\n",
    "\n",
    "merged_datasets.groupby('classification_max_price').agg({'accepted':'mean'})"
   ]
  },
  {
   "cell_type": "markdown",
   "id": "5a5ce60f",
   "metadata": {},
   "source": [
    "Based on the table, it can be seen that regardless of `filter_price_max`, people are rejected at similar rates."
   ]
  },
  {
   "cell_type": "code",
   "execution_count": 40,
   "id": "5087cf93",
   "metadata": {},
   "outputs": [
    {
     "data": {
      "text/html": [
       "<style type=\"text/css\">\n",
       "#T_469b6_row0_col4, #T_469b6_row1_col3, #T_469b6_row2_col4, #T_469b6_row3_col3, #T_469b6_row4_col4, #T_469b6_row5_col5, #T_469b6_row6_col3 {\n",
       "  background-color: green;\n",
       "  color: white;\n",
       "}\n",
       "</style>\n",
       "<table id=\"T_469b6\">\n",
       "  <thead>\n",
       "    <tr>\n",
       "      <th class=\"blank level0\" >&nbsp;</th>\n",
       "      <th id=\"T_469b6_level0_col0\" class=\"col_heading level0 col0\" colspan=\"7\">accepted</th>\n",
       "    </tr>\n",
       "    <tr>\n",
       "      <th class=\"index_name level1\" >classification_max_price</th>\n",
       "      <th id=\"T_469b6_level1_col0\" class=\"col_heading level1 col0\" >0-100</th>\n",
       "      <th id=\"T_469b6_level1_col1\" class=\"col_heading level1 col1\" >100-200</th>\n",
       "      <th id=\"T_469b6_level1_col2\" class=\"col_heading level1 col2\" >200-300</th>\n",
       "      <th id=\"T_469b6_level1_col3\" class=\"col_heading level1 col3\" >300-400</th>\n",
       "      <th id=\"T_469b6_level1_col4\" class=\"col_heading level1 col4\" >400-500</th>\n",
       "      <th id=\"T_469b6_level1_col5\" class=\"col_heading level1 col5\" >500-600</th>\n",
       "      <th id=\"T_469b6_level1_col6\" class=\"col_heading level1 col6\" >600+</th>\n",
       "    </tr>\n",
       "    <tr>\n",
       "      <th class=\"index_name level0\" >filter_room_types_cleaned</th>\n",
       "      <th class=\"blank col0\" >&nbsp;</th>\n",
       "      <th class=\"blank col1\" >&nbsp;</th>\n",
       "      <th class=\"blank col2\" >&nbsp;</th>\n",
       "      <th class=\"blank col3\" >&nbsp;</th>\n",
       "      <th class=\"blank col4\" >&nbsp;</th>\n",
       "      <th class=\"blank col5\" >&nbsp;</th>\n",
       "      <th class=\"blank col6\" >&nbsp;</th>\n",
       "    </tr>\n",
       "  </thead>\n",
       "  <tbody>\n",
       "    <tr>\n",
       "      <th id=\"T_469b6_level0_row0\" class=\"row_heading level0 row0\" >Entire Place</th>\n",
       "      <td id=\"T_469b6_row0_col0\" class=\"data row0 col0\" >0.323741</td>\n",
       "      <td id=\"T_469b6_row0_col1\" class=\"data row0 col1\" >0.410194</td>\n",
       "      <td id=\"T_469b6_row0_col2\" class=\"data row0 col2\" >0.445967</td>\n",
       "      <td id=\"T_469b6_row0_col3\" class=\"data row0 col3\" >0.464539</td>\n",
       "      <td id=\"T_469b6_row0_col4\" class=\"data row0 col4\" >0.484076</td>\n",
       "      <td id=\"T_469b6_row0_col5\" class=\"data row0 col5\" >0.406780</td>\n",
       "      <td id=\"T_469b6_row0_col6\" class=\"data row0 col6\" >0.434922</td>\n",
       "    </tr>\n",
       "    <tr>\n",
       "      <th id=\"T_469b6_level0_row1\" class=\"row_heading level0 row1\" >Entire Place, Private Room</th>\n",
       "      <td id=\"T_469b6_row1_col0\" class=\"data row1 col0\" >0.426431</td>\n",
       "      <td id=\"T_469b6_row1_col1\" class=\"data row1 col1\" >0.465870</td>\n",
       "      <td id=\"T_469b6_row1_col2\" class=\"data row1 col2\" >0.437500</td>\n",
       "      <td id=\"T_469b6_row1_col3\" class=\"data row1 col3\" >0.500000</td>\n",
       "      <td id=\"T_469b6_row1_col4\" class=\"data row1 col4\" >0.450000</td>\n",
       "      <td id=\"T_469b6_row1_col5\" class=\"data row1 col5\" >0.485714</td>\n",
       "      <td id=\"T_469b6_row1_col6\" class=\"data row1 col6\" >0.422862</td>\n",
       "    </tr>\n",
       "    <tr>\n",
       "      <th id=\"T_469b6_level0_row2\" class=\"row_heading level0 row2\" >Entire Place, Private Room, Shared Room</th>\n",
       "      <td id=\"T_469b6_row2_col0\" class=\"data row2 col0\" >0.351190</td>\n",
       "      <td id=\"T_469b6_row2_col1\" class=\"data row2 col1\" >0.297297</td>\n",
       "      <td id=\"T_469b6_row2_col2\" class=\"data row2 col2\" >0.303571</td>\n",
       "      <td id=\"T_469b6_row2_col3\" class=\"data row2 col3\" >0.363636</td>\n",
       "      <td id=\"T_469b6_row2_col4\" class=\"data row2 col4\" >0.466667</td>\n",
       "      <td id=\"T_469b6_row2_col5\" class=\"data row2 col5\" >0.263158</td>\n",
       "      <td id=\"T_469b6_row2_col6\" class=\"data row2 col6\" >0.325260</td>\n",
       "    </tr>\n",
       "    <tr>\n",
       "      <th id=\"T_469b6_level0_row3\" class=\"row_heading level0 row3\" >Entire Place, Shared Room</th>\n",
       "      <td id=\"T_469b6_row3_col0\" class=\"data row3 col0\" >nan</td>\n",
       "      <td id=\"T_469b6_row3_col1\" class=\"data row3 col1\" >0.375000</td>\n",
       "      <td id=\"T_469b6_row3_col2\" class=\"data row3 col2\" >0.400000</td>\n",
       "      <td id=\"T_469b6_row3_col3\" class=\"data row3 col3\" >0.416667</td>\n",
       "      <td id=\"T_469b6_row3_col4\" class=\"data row3 col4\" >0.200000</td>\n",
       "      <td id=\"T_469b6_row3_col5\" class=\"data row3 col5\" >nan</td>\n",
       "      <td id=\"T_469b6_row3_col6\" class=\"data row3 col6\" >0.333333</td>\n",
       "    </tr>\n",
       "    <tr>\n",
       "      <th id=\"T_469b6_level0_row4\" class=\"row_heading level0 row4\" >Private Room</th>\n",
       "      <td id=\"T_469b6_row4_col0\" class=\"data row4 col0\" >0.459400</td>\n",
       "      <td id=\"T_469b6_row4_col1\" class=\"data row4 col1\" >0.417178</td>\n",
       "      <td id=\"T_469b6_row4_col2\" class=\"data row4 col2\" >0.379032</td>\n",
       "      <td id=\"T_469b6_row4_col3\" class=\"data row4 col3\" >0.375000</td>\n",
       "      <td id=\"T_469b6_row4_col4\" class=\"data row4 col4\" >0.625000</td>\n",
       "      <td id=\"T_469b6_row4_col5\" class=\"data row4 col5\" >0.529412</td>\n",
       "      <td id=\"T_469b6_row4_col6\" class=\"data row4 col6\" >0.421099</td>\n",
       "    </tr>\n",
       "    <tr>\n",
       "      <th id=\"T_469b6_level0_row5\" class=\"row_heading level0 row5\" >Private Room, Shared Room</th>\n",
       "      <td id=\"T_469b6_row5_col0\" class=\"data row5 col0\" >0.481481</td>\n",
       "      <td id=\"T_469b6_row5_col1\" class=\"data row5 col1\" >0.480000</td>\n",
       "      <td id=\"T_469b6_row5_col2\" class=\"data row5 col2\" >0.333333</td>\n",
       "      <td id=\"T_469b6_row5_col3\" class=\"data row5 col3\" >0.400000</td>\n",
       "      <td id=\"T_469b6_row5_col4\" class=\"data row5 col4\" >0.000000</td>\n",
       "      <td id=\"T_469b6_row5_col5\" class=\"data row5 col5\" >1.000000</td>\n",
       "      <td id=\"T_469b6_row5_col6\" class=\"data row5 col6\" >0.394231</td>\n",
       "    </tr>\n",
       "    <tr>\n",
       "      <th id=\"T_469b6_level0_row6\" class=\"row_heading level0 row6\" >Shared Room</th>\n",
       "      <td id=\"T_469b6_row6_col0\" class=\"data row6 col0\" >0.272727</td>\n",
       "      <td id=\"T_469b6_row6_col1\" class=\"data row6 col1\" >nan</td>\n",
       "      <td id=\"T_469b6_row6_col2\" class=\"data row6 col2\" >0.125000</td>\n",
       "      <td id=\"T_469b6_row6_col3\" class=\"data row6 col3\" >1.000000</td>\n",
       "      <td id=\"T_469b6_row6_col4\" class=\"data row6 col4\" >0.500000</td>\n",
       "      <td id=\"T_469b6_row6_col5\" class=\"data row6 col5\" >0.200000</td>\n",
       "      <td id=\"T_469b6_row6_col6\" class=\"data row6 col6\" >0.441860</td>\n",
       "    </tr>\n",
       "  </tbody>\n",
       "</table>\n"
      ],
      "text/plain": [
       "<pandas.io.formats.style.Styler at 0x20d318b3790>"
      ]
     },
     "execution_count": 40,
     "metadata": {},
     "output_type": "execute_result"
    }
   ],
   "source": [
    "room_types_price = merged_datasets.groupby(['filter_room_types_cleaned', 'classification_max_price']).agg({'accepted':'mean'}).unstack(level=1)\n",
    "\n",
    "def highlight_max(s):\n",
    "    is_max = s == s.max()\n",
    "    return ['background-color:green; color:white' if v else '' for v in is_max]\n",
    "\n",
    "room_types_price.style.apply(highlight_max, axis=1)"
   ]
  },
  {
   "cell_type": "markdown",
   "id": "1d583caa",
   "metadata": {},
   "source": [
    "The table above shows that for `Private Room`, it is more likely that an inquiry will be accepted when price is set in the `400-600` range with an acceptance rate of `62.5%`."
   ]
  },
  {
   "cell_type": "code",
   "execution_count": 33,
   "id": "f73f2e30",
   "metadata": {
    "scrolled": false
   },
   "outputs": [
    {
     "data": {
      "text/html": [
       "<div>\n",
       "<style scoped>\n",
       "    .dataframe tbody tr th:only-of-type {\n",
       "        vertical-align: middle;\n",
       "    }\n",
       "\n",
       "    .dataframe tbody tr th {\n",
       "        vertical-align: top;\n",
       "    }\n",
       "\n",
       "    .dataframe thead th {\n",
       "        text-align: right;\n",
       "    }\n",
       "</style>\n",
       "<table border=\"1\" class=\"dataframe\">\n",
       "  <thead>\n",
       "    <tr style=\"text-align: right;\">\n",
       "      <th></th>\n",
       "      <th>origin_country</th>\n",
       "      <th>accepted</th>\n",
       "      <th>count_accepted</th>\n",
       "      <th>count_country</th>\n",
       "      <th>acceptance_rate</th>\n",
       "    </tr>\n",
       "  </thead>\n",
       "  <tbody>\n",
       "    <tr>\n",
       "      <th>73</th>\n",
       "      <td>IN</td>\n",
       "      <td>True</td>\n",
       "      <td>138</td>\n",
       "      <td>874</td>\n",
       "      <td>0.157895</td>\n",
       "    </tr>\n",
       "    <tr>\n",
       "      <th>55</th>\n",
       "      <td>HR</td>\n",
       "      <td>True</td>\n",
       "      <td>159</td>\n",
       "      <td>530</td>\n",
       "      <td>0.300000</td>\n",
       "    </tr>\n",
       "    <tr>\n",
       "      <th>72</th>\n",
       "      <td>AT</td>\n",
       "      <td>True</td>\n",
       "      <td>83</td>\n",
       "      <td>239</td>\n",
       "      <td>0.347280</td>\n",
       "    </tr>\n",
       "    <tr>\n",
       "      <th>54</th>\n",
       "      <td>RU</td>\n",
       "      <td>True</td>\n",
       "      <td>83</td>\n",
       "      <td>239</td>\n",
       "      <td>0.347280</td>\n",
       "    </tr>\n",
       "    <tr>\n",
       "      <th>11</th>\n",
       "      <td>IT</td>\n",
       "      <td>True</td>\n",
       "      <td>1183</td>\n",
       "      <td>3137</td>\n",
       "      <td>0.377112</td>\n",
       "    </tr>\n",
       "    <tr>\n",
       "      <th>100</th>\n",
       "      <td>AE</td>\n",
       "      <td>True</td>\n",
       "      <td>59</td>\n",
       "      <td>154</td>\n",
       "      <td>0.383117</td>\n",
       "    </tr>\n",
       "    <tr>\n",
       "      <th>0</th>\n",
       "      <td>CA</td>\n",
       "      <td>True</td>\n",
       "      <td>407</td>\n",
       "      <td>993</td>\n",
       "      <td>0.409869</td>\n",
       "    </tr>\n",
       "    <tr>\n",
       "      <th>13</th>\n",
       "      <td>IE</td>\n",
       "      <td>True</td>\n",
       "      <td>1217</td>\n",
       "      <td>2951</td>\n",
       "      <td>0.412403</td>\n",
       "    </tr>\n",
       "    <tr>\n",
       "      <th>24</th>\n",
       "      <td>ES</td>\n",
       "      <td>True</td>\n",
       "      <td>794</td>\n",
       "      <td>1914</td>\n",
       "      <td>0.414838</td>\n",
       "    </tr>\n",
       "    <tr>\n",
       "      <th>49</th>\n",
       "      <td>RO</td>\n",
       "      <td>True</td>\n",
       "      <td>50</td>\n",
       "      <td>118</td>\n",
       "      <td>0.423729</td>\n",
       "    </tr>\n",
       "    <tr>\n",
       "      <th>78</th>\n",
       "      <td>CR</td>\n",
       "      <td>True</td>\n",
       "      <td>82</td>\n",
       "      <td>188</td>\n",
       "      <td>0.436170</td>\n",
       "    </tr>\n",
       "    <tr>\n",
       "      <th>6</th>\n",
       "      <td>GB</td>\n",
       "      <td>True</td>\n",
       "      <td>1610</td>\n",
       "      <td>3667</td>\n",
       "      <td>0.439051</td>\n",
       "    </tr>\n",
       "    <tr>\n",
       "      <th>25</th>\n",
       "      <td>BE</td>\n",
       "      <td>True</td>\n",
       "      <td>134</td>\n",
       "      <td>304</td>\n",
       "      <td>0.440789</td>\n",
       "    </tr>\n",
       "    <tr>\n",
       "      <th>38</th>\n",
       "      <td>BR</td>\n",
       "      <td>True</td>\n",
       "      <td>215</td>\n",
       "      <td>482</td>\n",
       "      <td>0.446058</td>\n",
       "    </tr>\n",
       "    <tr>\n",
       "      <th>27</th>\n",
       "      <td>AU</td>\n",
       "      <td>True</td>\n",
       "      <td>268</td>\n",
       "      <td>590</td>\n",
       "      <td>0.454237</td>\n",
       "    </tr>\n",
       "    <tr>\n",
       "      <th>17</th>\n",
       "      <td>FR</td>\n",
       "      <td>True</td>\n",
       "      <td>1526</td>\n",
       "      <td>3232</td>\n",
       "      <td>0.472153</td>\n",
       "    </tr>\n",
       "    <tr>\n",
       "      <th>12</th>\n",
       "      <td>CH</td>\n",
       "      <td>True</td>\n",
       "      <td>279</td>\n",
       "      <td>585</td>\n",
       "      <td>0.476923</td>\n",
       "    </tr>\n",
       "    <tr>\n",
       "      <th>7</th>\n",
       "      <td>US</td>\n",
       "      <td>True</td>\n",
       "      <td>2050</td>\n",
       "      <td>4298</td>\n",
       "      <td>0.476966</td>\n",
       "    </tr>\n",
       "    <tr>\n",
       "      <th>14</th>\n",
       "      <td>DE</td>\n",
       "      <td>True</td>\n",
       "      <td>745</td>\n",
       "      <td>1535</td>\n",
       "      <td>0.485342</td>\n",
       "    </tr>\n",
       "    <tr>\n",
       "      <th>31</th>\n",
       "      <td>NL</td>\n",
       "      <td>True</td>\n",
       "      <td>212</td>\n",
       "      <td>433</td>\n",
       "      <td>0.489607</td>\n",
       "    </tr>\n",
       "    <tr>\n",
       "      <th>46</th>\n",
       "      <td>SG</td>\n",
       "      <td>True</td>\n",
       "      <td>115</td>\n",
       "      <td>232</td>\n",
       "      <td>0.495690</td>\n",
       "    </tr>\n",
       "    <tr>\n",
       "      <th>65</th>\n",
       "      <td>PT</td>\n",
       "      <td>True</td>\n",
       "      <td>101</td>\n",
       "      <td>203</td>\n",
       "      <td>0.497537</td>\n",
       "    </tr>\n",
       "    <tr>\n",
       "      <th>1</th>\n",
       "      <td>DK</td>\n",
       "      <td>True</td>\n",
       "      <td>86</td>\n",
       "      <td>125</td>\n",
       "      <td>0.688000</td>\n",
       "    </tr>\n",
       "  </tbody>\n",
       "</table>\n",
       "</div>"
      ],
      "text/plain": [
       "    origin_country  accepted  count_accepted  count_country  acceptance_rate\n",
       "73              IN      True             138            874         0.157895\n",
       "55              HR      True             159            530         0.300000\n",
       "72              AT      True              83            239         0.347280\n",
       "54              RU      True              83            239         0.347280\n",
       "11              IT      True            1183           3137         0.377112\n",
       "100             AE      True              59            154         0.383117\n",
       "0               CA      True             407            993         0.409869\n",
       "13              IE      True            1217           2951         0.412403\n",
       "24              ES      True             794           1914         0.414838\n",
       "49              RO      True              50            118         0.423729\n",
       "78              CR      True              82            188         0.436170\n",
       "6               GB      True            1610           3667         0.439051\n",
       "25              BE      True             134            304         0.440789\n",
       "38              BR      True             215            482         0.446058\n",
       "27              AU      True             268            590         0.454237\n",
       "17              FR      True            1526           3232         0.472153\n",
       "12              CH      True             279            585         0.476923\n",
       "7               US      True            2050           4298         0.476966\n",
       "14              DE      True             745           1535         0.485342\n",
       "31              NL      True             212            433         0.489607\n",
       "46              SG      True             115            232         0.495690\n",
       "65              PT      True             101            203         0.497537\n",
       "1               DK      True              86            125         0.688000"
      ]
     },
     "execution_count": 33,
     "metadata": {},
     "output_type": "execute_result"
    }
   ],
   "source": [
    "# Find the acceptance rate by country\n",
    "\n",
    "dataset_country = merged_datasets[['origin_country', 'accepted']]\n",
    "\n",
    "# Find acceptance count by country and accepted\n",
    "accepted_count = dataset_country.groupby(['origin_country', 'accepted']).agg({'origin_country':'count'})\n",
    "accepted_count.columns = ['count_accepted']\n",
    "\n",
    "# Find acceptance count by country\n",
    "country_count = dataset_country.groupby('origin_country').agg({'origin_country':'count'})\n",
    "country_count.columns = ['count_country']\n",
    "\n",
    "# Merge datasets for easier manipulation\n",
    "acceptance_country = pd.merge(dataset_country, accepted_count, how='left', on=['origin_country', 'accepted'])\n",
    "acceptance_country = acceptance_country.drop_duplicates()\n",
    "\n",
    "acceptance_country = pd.merge(acceptance_country, country_count, how='left', on=['origin_country'])\n",
    "acceptance_country = acceptance_country.sort_values(['count_country', 'accepted'], ascending=[False, True])\n",
    "acceptance_country = acceptance_country[acceptance_country['count_country'] >= 100] # 100 is used so there is good amount of data to make assumptions\n",
    "acceptance_country = acceptance_country[acceptance_country['accepted'] == True]\n",
    "\n",
    "# Divide count_accepted column by count_country to find acceptance rate by country\n",
    "acceptance_country['acceptance_rate'] = acceptance_country['count_accepted'] / acceptance_country['count_country']\n",
    "acceptance_country.sort_values(['acceptance_rate'], ascending=True)"
   ]
  },
  {
   "cell_type": "markdown",
   "id": "d4c42078",
   "metadata": {},
   "source": [
    "An interesting point is that India has the lowest acceptance rate of 15% which is half of the acceptance rate of the second lowest acceptance rate country. \n",
    "\n",
    "Let's visualize these data to gain more clarity and insights into Dublin Airbnb market by importing these datasets into Tableau."
   ]
  },
  {
   "cell_type": "code",
   "execution_count": 51,
   "id": "c3a231d5",
   "metadata": {},
   "outputs": [],
   "source": [
    "# Load the datasets to Tableau for visualizations by converting to csv format\n",
    "#searches.to_csv('searches_df.csv')\n",
    "#contacts.to_csv('contacts_df.csv')\n",
    "#merged_datasets.to_csv('merged_df.csv')"
   ]
  },
  {
   "cell_type": "markdown",
   "id": "e8de2126",
   "metadata": {},
   "source": [
    "To further analyze the datasets for insights, trends, and correlations, the dataset `searches`, `contacts`, and `merged_datasets` will be **imported into SQL Server** to query for meaningful and actionable insights."
   ]
  },
  {
   "cell_type": "code",
   "execution_count": 92,
   "id": "617526fc",
   "metadata": {},
   "outputs": [
    {
     "name": "stdout",
     "output_type": "stream",
     "text": [
      "Database created: AirbnbMarket\n"
     ]
    },
    {
     "name": "stderr",
     "output_type": "stream",
     "text": [
      "C:\\Users\\najmi\\AppData\\Local\\Temp\\ipykernel_34920\\4188778535.py:16: UserWarning: the 'timedelta' type is not supported, and will be written as integer values (ns frequency) to the database.\n",
      "  df.to_sql(table_name, con=conn_new_db, if_exists='replace', index=False)\n"
     ]
    },
    {
     "name": "stdout",
     "output_type": "stream",
     "text": [
      "Table created and data loaded successfully.\n"
     ]
    }
   ],
   "source": [
    "def data_to_sql(df, database_name, table_name, server):\n",
    "    engine = sal.create_engine(f'mssql://{server}/master?driver=ODBC+DRIVER+17+FOR+SQL+SERVER', isolation_level=\"AUTOCOMMIT\")\n",
    "    conn = engine.connect()\n",
    "    \n",
    "    create_db_query = f\"CREATE DATABASE {database_name}\"\n",
    "    conn.execute(create_db_query)\n",
    "    \n",
    "    verify_query = f\"SELECT name FROM sys.databases WHERE name = '{database_name}'\"\n",
    "    result = conn.execute(verify_query)\n",
    "    for row in result:\n",
    "        print(f\"Database created: {row[0]}\")\n",
    "        \n",
    "    engine_new_db = sal.create_engine(f'mssql://{server}/{database_name}?driver=ODBC+DRIVER+17+FOR+SQL+SERVER', isolation_level=\"AUTOCOMMIT\")\n",
    "    conn_new_db = engine_new_db.connect()\n",
    "    \n",
    "    df.to_sql(table_name, con=conn_new_db, if_exists='replace', index=False)\n",
    "    \n",
    "    print(\"Table created and data loaded successfully.\")\n",
    "\n",
    "data_to_sql(df=searches, database_name='AirbnbMarket', table_name='searches_df', server='Najmi-XPS\\SQLEXPRESS')"
   ]
  },
  {
   "cell_type": "code",
   "execution_count": 99,
   "id": "c423e6df",
   "metadata": {},
   "outputs": [
    {
     "name": "stderr",
     "output_type": "stream",
     "text": [
      "C:\\Users\\najmi\\AppData\\Local\\Temp\\ipykernel_34920\\3737874543.py:5: UserWarning: the 'timedelta' type is not supported, and will be written as integer values (ns frequency) to the database.\n",
      "  df.to_sql(table_name, con=conn, if_exists=action, index=False)\n"
     ]
    },
    {
     "name": "stdout",
     "output_type": "stream",
     "text": [
      "Table created and contacts_df loaded successfully.\n"
     ]
    }
   ],
   "source": [
    "def df_to_sql(df, database_name, table_name, server, action):\n",
    "    engine = sal.create_engine(f'mssql://{server}/{database_name}?driver=ODBC+DRIVER+17+FOR+SQL+SERVER', isolation_level=\"AUTOCOMMIT\")\n",
    "    \n",
    "    conn = engine.connect()\n",
    "    df.to_sql(table_name, con=conn, if_exists=action, index=False)\n",
    "    \n",
    "    print(f\"Table created and {table_name} loaded successfully.\")\n",
    "\n",
    "df_to_sql(df=contacts, database_name='AirbnbMarket', table_name='contacts_df', server='Najmi-XPS\\SQLEXPRESS', action='replace')"
   ]
  },
  {
   "cell_type": "code",
   "execution_count": 100,
   "id": "c4e63f49",
   "metadata": {},
   "outputs": [
    {
     "name": "stderr",
     "output_type": "stream",
     "text": [
      "C:\\Users\\najmi\\AppData\\Local\\Temp\\ipykernel_34920\\3486187542.py:5: UserWarning: the 'timedelta' type is not supported, and will be written as integer values (ns frequency) to the database.\n",
      "  df.to_sql(table_name, con=conn, if_exists=action, index=False)\n"
     ]
    },
    {
     "name": "stdout",
     "output_type": "stream",
     "text": [
      "Table created and merged_df loaded successfully.\n"
     ]
    }
   ],
   "source": [
    "def df_to_sql(df, database_name, table_name, server, action):\n",
    "    engine = sal.create_engine(f'mssql://{server}/{database_name}?driver=ODBC+DRIVER+17+FOR+SQL+SERVER', isolation_level=\"AUTOCOMMIT\")\n",
    "    \n",
    "    conn = engine.connect()\n",
    "    df.to_sql(table_name, con=conn, if_exists=action, index=False)\n",
    "    \n",
    "    print(f\"Table created and {table_name} loaded successfully.\")\n",
    "\n",
    "df_to_sql(df=merged_datasets, database_name='AirbnbMarket', table_name='merged_df', server='Najmi-XPS\\SQLEXPRESS', action='replace')"
   ]
  },
  {
   "cell_type": "code",
   "execution_count": 105,
   "id": "2394f721",
   "metadata": {},
   "outputs": [
    {
     "data": {
      "text/plain": [
       "Timestamp('2016-06-02 00:00:00')"
      ]
     },
     "execution_count": 105,
     "metadata": {},
     "output_type": "execute_result"
    }
   ],
   "source": [
    "searches['ds_checkin'].max()"
   ]
  },
  {
   "cell_type": "code",
   "execution_count": 106,
   "id": "6a448099",
   "metadata": {},
   "outputs": [
    {
     "data": {
      "text/plain": [
       "Timestamp('2015-12-01 00:00:00')"
      ]
     },
     "execution_count": 106,
     "metadata": {},
     "output_type": "execute_result"
    }
   ],
   "source": [
    "contacts['ds_checkout'].max()"
   ]
  },
  {
   "cell_type": "code",
   "execution_count": null,
   "id": "53d9856c",
   "metadata": {},
   "outputs": [],
   "source": []
  }
 ],
 "metadata": {
  "kernelspec": {
   "display_name": "Python 3 (ipykernel)",
   "language": "python",
   "name": "python3"
  },
  "language_info": {
   "codemirror_mode": {
    "name": "ipython",
    "version": 3
   },
   "file_extension": ".py",
   "mimetype": "text/x-python",
   "name": "python",
   "nbconvert_exporter": "python",
   "pygments_lexer": "ipython3",
   "version": "3.11.4"
  }
 },
 "nbformat": 4,
 "nbformat_minor": 5
}
